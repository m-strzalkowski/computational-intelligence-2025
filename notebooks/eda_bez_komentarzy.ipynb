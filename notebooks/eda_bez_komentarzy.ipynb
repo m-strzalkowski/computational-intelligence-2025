{
 "cells": [
  {
   "cell_type": "code",
   "execution_count": 1,
   "id": "9b2ce768",
   "metadata": {},
   "outputs": [],
   "source": [
    "import pandas as pd\n",
    "import json\n",
    "import matplotlib.pyplot as plt\n",
    "import numpy as np\n",
    "import re\n",
    "\n",
    "\n",
    "def load_json_to_dataframe(file_path):\n",
    "    with open(file_path, 'r', encoding='utf-8') as file:\n",
    "        data = json.load(file)\n",
    "    return pd.DataFrame(data['data'])\n",
    "\n",
    "def jitter_labels(y, sigma=0.05):\n",
    "    \"\"\"Adding random noise to the data\"\"\"\n",
    "    return np.clip(np.random.normal(y, sigma), 0, 1)"
   ]
  },
  {
   "cell_type": "markdown",
   "id": "ff2024d1",
   "metadata": {},
   "source": [
    "# Data from Homepage\n",
    "data is from API"
   ]
  },
  {
   "cell_type": "code",
   "execution_count": 2,
   "id": "898958fe",
   "metadata": {},
   "outputs": [],
   "source": [
    "link_homepage = '../data/homepage_posts_data.json'\n",
    "df_homepage = load_json_to_dataframe(link_homepage)"
   ]
  },
  {
   "cell_type": "code",
   "execution_count": 3,
   "id": "94e5cee6",
   "metadata": {},
   "outputs": [
    {
     "data": {
      "text/plain": [
       "Index(['id', 'created_at', 'title', 'slug', 'description', 'source', 'author',\n",
       "       'published_at', 'votes', 'voted', 'comments', 'tags', 'hot', 'adult',\n",
       "       'media', 'editable', 'deletable', 'resource', 'actions', 'archive',\n",
       "       'observed_discussion', 'parent', 'tag_pinned_content', 'pinnable',\n",
       "       'recommended', 'family_friendly', 'favourite', 'alerts', 'ama'],\n",
       "      dtype='object')"
      ]
     },
     "execution_count": 3,
     "metadata": {},
     "output_type": "execute_result"
    }
   ],
   "source": [
    "df_homepage.columns"
   ]
  },
  {
   "cell_type": "code",
   "execution_count": 4,
   "id": "99efdf26",
   "metadata": {},
   "outputs": [],
   "source": [
    "df_homepage = df_homepage.drop(columns=[\n",
    "    'created_at', 'source', 'slug', 'published_at', 'hot', 'adult', 'media', 'observed_discussion', 'parent', 'tag_pinned_content', 'pinnable', 'editable', 'deletable', 'resource', 'actions', 'archive', 'recommended', 'family_friendly', 'favourite', 'ama', 'voted'\n",
    "])"
   ]
  },
  {
   "cell_type": "code",
   "execution_count": 5,
   "id": "2132dd60",
   "metadata": {},
   "outputs": [],
   "source": [
    "df_homepage['author'] = df_homepage['author'].apply(lambda x: x['username'])\n",
    "df_homepage['downvotes'] = df_homepage['votes'].apply(lambda x: x['down'])\n",
    "df_homepage['votes'] = df_homepage['votes'].apply(lambda x: x['up'])"
   ]
  },
  {
   "cell_type": "code",
   "execution_count": 6,
   "id": "2a2c6e5e",
   "metadata": {},
   "outputs": [
    {
     "data": {
      "text/html": [
       "<div>\n",
       "<style scoped>\n",
       "    .dataframe tbody tr th:only-of-type {\n",
       "        vertical-align: middle;\n",
       "    }\n",
       "\n",
       "    .dataframe tbody tr th {\n",
       "        vertical-align: top;\n",
       "    }\n",
       "\n",
       "    .dataframe thead th {\n",
       "        text-align: right;\n",
       "    }\n",
       "</style>\n",
       "<table border=\"1\" class=\"dataframe\">\n",
       "  <thead>\n",
       "    <tr style=\"text-align: right;\">\n",
       "      <th></th>\n",
       "      <th>id</th>\n",
       "      <th>title</th>\n",
       "      <th>description</th>\n",
       "      <th>author</th>\n",
       "      <th>votes</th>\n",
       "      <th>comments</th>\n",
       "      <th>tags</th>\n",
       "      <th>alerts</th>\n",
       "      <th>downvotes</th>\n",
       "    </tr>\n",
       "  </thead>\n",
       "  <tbody>\n",
       "    <tr>\n",
       "      <th>0</th>\n",
       "      <td>7766021</td>\n",
       "      <td>Pracujących Polaków nie stać nawet na metr mie...</td>\n",
       "      <td>Polaków nie stać na zakup nawet 1 m kw. mieszk...</td>\n",
       "      <td>ross-flow</td>\n",
       "      <td>485</td>\n",
       "      <td>{'hot': False, 'count': 222}</td>\n",
       "      <td>[nieruchomosci, wynajem, rynekwtorny, mieszkania]</td>\n",
       "      <td>[]</td>\n",
       "      <td>13</td>\n",
       "    </tr>\n",
       "    <tr>\n",
       "      <th>1</th>\n",
       "      <td>7798801</td>\n",
       "      <td>Owczarki zaatakowały jamnika. Brutus nie żyje,...</td>\n",
       "      <td>To był spacer jak każdego innego dnia. Nagle ł...</td>\n",
       "      <td>coiber</td>\n",
       "      <td>631</td>\n",
       "      <td>{'hot': False, 'count': 101}</td>\n",
       "      <td>[lodz, psy, pies, psiarze, bekazpodludzi]</td>\n",
       "      <td>[]</td>\n",
       "      <td>30</td>\n",
       "    </tr>\n",
       "    <tr>\n",
       "      <th>2</th>\n",
       "      <td>7667729</td>\n",
       "      <td>Mocne oświadczenie PZN po aferze w skokach. Li...</td>\n",
       "      <td>Tymczasowe zawieszenie sztabu szkoleniowego i ...</td>\n",
       "      <td>Bobito</td>\n",
       "      <td>288</td>\n",
       "      <td>{'hot': False, 'count': 56}</td>\n",
       "      <td>[sport, skoki, skokinarciarskie, swiat]</td>\n",
       "      <td>[]</td>\n",
       "      <td>4</td>\n",
       "    </tr>\n",
       "    <tr>\n",
       "      <th>3</th>\n",
       "      <td>7798789</td>\n",
       "      <td>Jak ojciec Sebastiana M. stracił milion złotyc...</td>\n",
       "      <td>Właścicielem pojazdu był Jarosław M., ojciec S...</td>\n",
       "      <td>Kolekcjoner_dusz</td>\n",
       "      <td>707</td>\n",
       "      <td>{'hot': False, 'count': 207}</td>\n",
       "      <td>[sebastianmajtczak, majtczak, polskiedrogi, wy...</td>\n",
       "      <td>[]</td>\n",
       "      <td>4</td>\n",
       "    </tr>\n",
       "    <tr>\n",
       "      <th>4</th>\n",
       "      <td>7766029</td>\n",
       "      <td>zus anulował rente</td>\n",
       "      <td>mieszkanka Szczecina, miała 27 lat, gdy straci...</td>\n",
       "      <td>stefan_1971</td>\n",
       "      <td>458</td>\n",
       "      <td>{'hot': False, 'count': 123}</td>\n",
       "      <td>[zus, renta]</td>\n",
       "      <td>[]</td>\n",
       "      <td>10</td>\n",
       "    </tr>\n",
       "    <tr>\n",
       "      <th>...</th>\n",
       "      <td>...</td>\n",
       "      <td>...</td>\n",
       "      <td>...</td>\n",
       "      <td>...</td>\n",
       "      <td>...</td>\n",
       "      <td>...</td>\n",
       "      <td>...</td>\n",
       "      <td>...</td>\n",
       "      <td>...</td>\n",
       "    </tr>\n",
       "    <tr>\n",
       "      <th>9858</th>\n",
       "      <td>7733231</td>\n",
       "      <td>xcancel.com - przeglądaj twitty I odpowiedzi b...</td>\n",
       "      <td>W sumie trochę mnie dziwi, ze ta stronka nie j...</td>\n",
       "      <td>Returned</td>\n",
       "      <td>438</td>\n",
       "      <td>{'hot': False, 'count': 32}</td>\n",
       "      <td>[technologia, twitter, lifehack, internet]</td>\n",
       "      <td>[]</td>\n",
       "      <td>5</td>\n",
       "    </tr>\n",
       "    <tr>\n",
       "      <th>9859</th>\n",
       "      <td>7700465</td>\n",
       "      <td>Tani sposób Niemców na oczyszczanie wody. W Po...</td>\n",
       "      <td>Nowe badanie pokazuje, że mikroplastiki i toks...</td>\n",
       "      <td>Rasteris</td>\n",
       "      <td>427</td>\n",
       "      <td>{'hot': False, 'count': 53}</td>\n",
       "      <td>[woda, przyroda, nauka, technika, las]</td>\n",
       "      <td>[]</td>\n",
       "      <td>9</td>\n",
       "    </tr>\n",
       "    <tr>\n",
       "      <th>9860</th>\n",
       "      <td>7798775</td>\n",
       "      <td>Zabił rodzinę, uciekł ze szpitala. Dożywocia n...</td>\n",
       "      <td>Prokuratura żądała dożywocia, sąd się na to ni...</td>\n",
       "      <td>ZobaczLink</td>\n",
       "      <td>235</td>\n",
       "      <td>{'hot': False, 'count': 28}</td>\n",
       "      <td>[polska, prawo, sadowehistorie, kryminalne, mo...</td>\n",
       "      <td>[]</td>\n",
       "      <td>1</td>\n",
       "    </tr>\n",
       "    <tr>\n",
       "      <th>9861</th>\n",
       "      <td>7733241</td>\n",
       "      <td>Zabrali i umieścili w rodzinie zastępczej. Czt...</td>\n",
       "      <td>Policja odebrała i umieściła w rodzinie zastęp...</td>\n",
       "      <td>Kolekcjoner_dusz</td>\n",
       "      <td>543</td>\n",
       "      <td>{'hot': False, 'count': 185}</td>\n",
       "      <td>[warszawa, policja, afera]</td>\n",
       "      <td>[]</td>\n",
       "      <td>58</td>\n",
       "    </tr>\n",
       "    <tr>\n",
       "      <th>9862</th>\n",
       "      <td>7667707</td>\n",
       "      <td>Cła odwetowe UE wobec USA, m.in. na mięso, orz...</td>\n",
       "      <td>12 marca Komisja Europejska poinformowała o na...</td>\n",
       "      <td>p0391</td>\n",
       "      <td>360</td>\n",
       "      <td>{'hot': False, 'count': 204}</td>\n",
       "      <td>[ue, uniaeuropejska, europa, polska, usa, gosp...</td>\n",
       "      <td>[]</td>\n",
       "      <td>4</td>\n",
       "    </tr>\n",
       "  </tbody>\n",
       "</table>\n",
       "<p>9863 rows × 9 columns</p>\n",
       "</div>"
      ],
      "text/plain": [
       "           id                                              title  \\\n",
       "0     7766021  Pracujących Polaków nie stać nawet na metr mie...   \n",
       "1     7798801  Owczarki zaatakowały jamnika. Brutus nie żyje,...   \n",
       "2     7667729  Mocne oświadczenie PZN po aferze w skokach. Li...   \n",
       "3     7798789  Jak ojciec Sebastiana M. stracił milion złotyc...   \n",
       "4     7766029                                 zus anulował rente   \n",
       "...       ...                                                ...   \n",
       "9858  7733231  xcancel.com - przeglądaj twitty I odpowiedzi b...   \n",
       "9859  7700465  Tani sposób Niemców na oczyszczanie wody. W Po...   \n",
       "9860  7798775  Zabił rodzinę, uciekł ze szpitala. Dożywocia n...   \n",
       "9861  7733241  Zabrali i umieścili w rodzinie zastępczej. Czt...   \n",
       "9862  7667707  Cła odwetowe UE wobec USA, m.in. na mięso, orz...   \n",
       "\n",
       "                                            description            author  \\\n",
       "0     Polaków nie stać na zakup nawet 1 m kw. mieszk...         ross-flow   \n",
       "1     To był spacer jak każdego innego dnia. Nagle ł...            coiber   \n",
       "2     Tymczasowe zawieszenie sztabu szkoleniowego i ...            Bobito   \n",
       "3     Właścicielem pojazdu był Jarosław M., ojciec S...  Kolekcjoner_dusz   \n",
       "4     mieszkanka Szczecina, miała 27 lat, gdy straci...       stefan_1971   \n",
       "...                                                 ...               ...   \n",
       "9858  W sumie trochę mnie dziwi, ze ta stronka nie j...          Returned   \n",
       "9859  Nowe badanie pokazuje, że mikroplastiki i toks...          Rasteris   \n",
       "9860  Prokuratura żądała dożywocia, sąd się na to ni...        ZobaczLink   \n",
       "9861  Policja odebrała i umieściła w rodzinie zastęp...  Kolekcjoner_dusz   \n",
       "9862  12 marca Komisja Europejska poinformowała o na...             p0391   \n",
       "\n",
       "      votes                      comments  \\\n",
       "0       485  {'hot': False, 'count': 222}   \n",
       "1       631  {'hot': False, 'count': 101}   \n",
       "2       288   {'hot': False, 'count': 56}   \n",
       "3       707  {'hot': False, 'count': 207}   \n",
       "4       458  {'hot': False, 'count': 123}   \n",
       "...     ...                           ...   \n",
       "9858    438   {'hot': False, 'count': 32}   \n",
       "9859    427   {'hot': False, 'count': 53}   \n",
       "9860    235   {'hot': False, 'count': 28}   \n",
       "9861    543  {'hot': False, 'count': 185}   \n",
       "9862    360  {'hot': False, 'count': 204}   \n",
       "\n",
       "                                                   tags alerts  downvotes  \n",
       "0     [nieruchomosci, wynajem, rynekwtorny, mieszkania]     []         13  \n",
       "1             [lodz, psy, pies, psiarze, bekazpodludzi]     []         30  \n",
       "2               [sport, skoki, skokinarciarskie, swiat]     []          4  \n",
       "3     [sebastianmajtczak, majtczak, polskiedrogi, wy...     []          4  \n",
       "4                                          [zus, renta]     []         10  \n",
       "...                                                 ...    ...        ...  \n",
       "9858         [technologia, twitter, lifehack, internet]     []          5  \n",
       "9859             [woda, przyroda, nauka, technika, las]     []          9  \n",
       "9860  [polska, prawo, sadowehistorie, kryminalne, mo...     []          1  \n",
       "9861                         [warszawa, policja, afera]     []         58  \n",
       "9862  [ue, uniaeuropejska, europa, polska, usa, gosp...     []          4  \n",
       "\n",
       "[9863 rows x 9 columns]"
      ]
     },
     "execution_count": 6,
     "metadata": {},
     "output_type": "execute_result"
    }
   ],
   "source": [
    "df_homepage"
   ]
  },
  {
   "cell_type": "markdown",
   "id": "8bf89f8f",
   "metadata": {},
   "source": [
    "# Data from id scan"
   ]
  },
  {
   "cell_type": "code",
   "execution_count": 7,
   "id": "3cf33454",
   "metadata": {},
   "outputs": [],
   "source": [
    "link = '../data/final_combined_results_7631933-7651933.json'\n",
    "df_id = load_json_to_dataframe(link)"
   ]
  },
  {
   "cell_type": "code",
   "execution_count": 8,
   "id": "3b952f1d",
   "metadata": {},
   "outputs": [
    {
     "data": {
      "text/plain": [
       "Index(['id', 'url', 'title', 'points', 'description', 'added_date', 'tags',\n",
       "       'alerts', 'comments', 'status', 'proxy', 'error'],\n",
       "      dtype='object')"
      ]
     },
     "execution_count": 8,
     "metadata": {},
     "output_type": "execute_result"
    }
   ],
   "source": [
    "df_id.columns"
   ]
  },
  {
   "cell_type": "code",
   "execution_count": 9,
   "id": "a42d6053",
   "metadata": {},
   "outputs": [],
   "source": [
    "df_id = df_id[df_id['error'].isna()]"
   ]
  },
  {
   "cell_type": "code",
   "execution_count": 10,
   "id": "4449ef01",
   "metadata": {},
   "outputs": [],
   "source": [
    "df_id = df_id.drop(columns=['status', 'proxy', 'error']).reset_index(drop=True)"
   ]
  },
  {
   "cell_type": "code",
   "execution_count": 11,
   "id": "e0bdaadb",
   "metadata": {},
   "outputs": [
    {
     "name": "stdout",
     "output_type": "stream",
     "text": [
      "Count of alerts:  1153\n",
      "All alerts are either 'zakopane' or 'duplikat'\n"
     ]
    },
    {
     "name": "stderr",
     "output_type": "stream",
     "text": [
      "/tmp/ipykernel_87669/3722623095.py:2: SettingWithCopyWarning: \n",
      "A value is trying to be set on a copy of a slice from a DataFrame.\n",
      "Try using .loc[row_indexer,col_indexer] = value instead\n",
      "\n",
      "See the caveats in the documentation: https://pandas.pydata.org/pandas-docs/stable/user_guide/indexing.html#returning-a-view-versus-a-copy\n",
      "  alerts_df_id['zakopane'] = alerts_df_id['alerts'].apply(lambda x: x['title'] == 'To Znalezisko zostało zakopane')\n",
      "/tmp/ipykernel_87669/3722623095.py:3: SettingWithCopyWarning: \n",
      "A value is trying to be set on a copy of a slice from a DataFrame.\n",
      "Try using .loc[row_indexer,col_indexer] = value instead\n",
      "\n",
      "See the caveats in the documentation: https://pandas.pydata.org/pandas-docs/stable/user_guide/indexing.html#returning-a-view-versus-a-copy\n",
      "  alerts_df_id['duplikat'] = alerts_df_id['alerts'].apply(lambda x: (x['title'] == 'To Znalezisko zostało wyrzucone') and ('Duplikat' in x['body']))\n"
     ]
    }
   ],
   "source": [
    "alerts_df_id = df_id[df_id['alerts'].notna()]\n",
    "alerts_df_id['zakopane'] = alerts_df_id['alerts'].apply(lambda x: x['title'] == 'To Znalezisko zostało zakopane')\n",
    "alerts_df_id['duplikat'] = alerts_df_id['alerts'].apply(lambda x: (x['title'] == 'To Znalezisko zostało wyrzucone') and ('Duplikat' in x['body']))\n",
    "print(\"Count of alerts: \", len(alerts_df_id))\n",
    "\n",
    "# Check if all alerts are either 'zakopane' or 'duplikat'\n",
    "zakopane_duplikat = (alerts_df_id['zakopane'] | alerts_df_id['duplikat']).all()\n",
    "\n",
    "if zakopane_duplikat:\n",
    "    print(\"All alerts are either 'zakopane' or 'duplikat'\")\n",
    "    \n",
    "    # Remove the 'alerts' column as it is no longer needed\n",
    "    alerts_df_id = alerts_df_id.drop(columns=['alerts'])\n",
    "\n",
    "    # can remove duplicates now\n",
    "    alerts_df_id = alerts_df_id[~alerts_df_id['duplikat']].drop(columns=['duplikat'])"
   ]
  },
  {
   "cell_type": "markdown",
   "id": "2b895b34",
   "metadata": {},
   "source": [
    "## Get comments and see if they contain information about manipulation and check their points\n",
    "\n",
    "**NOTE**: this is still important to check because word 'manipulation' can also not address the original post"
   ]
  },
  {
   "cell_type": "code",
   "execution_count": 12,
   "id": "f42d8474",
   "metadata": {},
   "outputs": [],
   "source": [
    "# content: None means that there was some multimedia posted and no text\n",
    "df_id['comments_content_points'] = df_id['comments'].apply(lambda x: [(c['content'], c['points']) for c in x if c['content'] is not None])"
   ]
  },
  {
   "cell_type": "code",
   "execution_count": 13,
   "id": "e573d9b8",
   "metadata": {},
   "outputs": [],
   "source": [
    "import re\n",
    "pattern = re.compile(r'\\bmanipula\\w*\\b', flags=re.IGNORECASE)\n",
    "\n",
    "df_id['mentions_manipulation'] = df_id['comments_content_points'] \\\n",
    "    .apply(lambda list_c:\n",
    "        any(pattern.search(c[0]) for c in list_c if isinstance(c[0], str))\n",
    "    )"
   ]
  },
  {
   "cell_type": "code",
   "execution_count": 14,
   "id": "39079b5a",
   "metadata": {},
   "outputs": [],
   "source": [
    "df_id['top_manipulation_comment'] = df_id['comments_content_points'].apply(\n",
    "    lambda comments: max(\n",
    "        (c for c in comments if pattern.search(c[0])),\n",
    "        key=lambda c: c[1],\n",
    "        default=None\n",
    "    )\n",
    ")"
   ]
  },
  {
   "cell_type": "markdown",
   "id": "eb19f50f",
   "metadata": {},
   "source": [
    "## Is comment containing 'informacja nieprawdziwa' or 'nieprawdziwa informacja'"
   ]
  },
  {
   "cell_type": "code",
   "execution_count": 15,
   "id": "2fdb1baa",
   "metadata": {},
   "outputs": [],
   "source": [
    "df_id['comment_informacja_nieprawdziwa'] = df_id['comments_content_points'].apply(\n",
    "    lambda comments: max(\n",
    "        (c for c in comments if re.compile(r'informacja nieprawdziwa|nieprawdziwa informacja', re.IGNORECASE).search(c[0])),\n",
    "        key=lambda c: c[1],\n",
    "        default=None\n",
    "    )\n",
    ")"
   ]
  },
  {
   "cell_type": "code",
   "execution_count": 16,
   "id": "ad0b5d09",
   "metadata": {},
   "outputs": [
    {
     "data": {
      "text/plain": [
       "np.int64(53)"
      ]
     },
     "execution_count": 16,
     "metadata": {},
     "output_type": "execute_result"
    }
   ],
   "source": [
    "df_id['comment_informacja_nieprawdziwa'].notna().sum()"
   ]
  },
  {
   "cell_type": "code",
   "execution_count": 17,
   "id": "785c2329",
   "metadata": {},
   "outputs": [],
   "source": [
    "comment_informacja_nieprawdziwa_points = df_id[df_id['comment_informacja_nieprawdziwa'].notna()]['comment_informacja_nieprawdziwa'].apply(lambda x: x[1])\\\n",
    "      / df_id[df_id['comment_informacja_nieprawdziwa'].notna()]['points'].abs()\n",
    "\n",
    "df_id.loc[comment_informacja_nieprawdziwa_points.index, 'score_informacja_nieprawdziwa'] = comment_informacja_nieprawdziwa_points"
   ]
  },
  {
   "cell_type": "code",
   "execution_count": 18,
   "id": "9aac6409",
   "metadata": {},
   "outputs": [
    {
     "data": {
      "text/plain": [
       "198    -0.086957\n",
       "247     0.035714\n",
       "865     0.350000\n",
       "1525    0.140044\n",
       "1833    0.000000\n",
       "1842    0.033898\n",
       "1961    0.409586\n",
       "2595    0.020713\n",
       "2601    2.000000\n",
       "3319    0.160105\n",
       "3504    0.000000\n",
       "3549    0.069124\n",
       "3583   -0.583333\n",
       "4131    0.000000\n",
       "4142    0.083333\n",
       "4244    0.061475\n",
       "4283    0.117419\n",
       "4405    0.714286\n",
       "4614    0.443182\n",
       "4699    0.011050\n",
       "4797   -0.020942\n",
       "4904    0.028956\n",
       "5189    1.750000\n",
       "5332    0.032710\n",
       "5381    0.000000\n",
       "6087    0.357143\n",
       "6292    0.000000\n",
       "6298    0.048780\n",
       "6335    0.055419\n",
       "6387   -0.444444\n",
       "6416    0.005391\n",
       "6656    0.266714\n",
       "6681    0.000000\n",
       "6719   -0.003704\n",
       "6815    0.000000\n",
       "7049    0.333333\n",
       "7144    0.293103\n",
       "7301    0.197842\n",
       "7482    0.062500\n",
       "7588    1.000000\n",
       "7871    0.000000\n",
       "7875    0.218487\n",
       "7897    0.031496\n",
       "7950    0.347032\n",
       "7957    0.026622\n",
       "8023    0.134490\n",
       "8129    3.000000\n",
       "8368    0.313758\n",
       "8549    0.128000\n",
       "8945   -0.100000\n",
       "8986    0.250000\n",
       "9127    0.333333\n",
       "9203    0.067385\n",
       "dtype: float64"
      ]
     },
     "execution_count": 18,
     "metadata": {},
     "output_type": "execute_result"
    }
   ],
   "source": [
    "comment_informacja_nieprawdziwa_points"
   ]
  },
  {
   "cell_type": "markdown",
   "id": "269a7ff7",
   "metadata": {},
   "source": [
    "### Method involves label smoothing - model will not generalize well possibly"
   ]
  },
  {
   "cell_type": "code",
   "execution_count": 19,
   "id": "6d59eeb9",
   "metadata": {},
   "outputs": [],
   "source": [
    "df_id.loc[alerts_df_id.index, 'score_zakopane'] = np.clip(\n",
    "    np.random.normal(loc=0.7, scale=0.05, size=len(alerts_df_id.index)),\n",
    "    0, 1\n",
    ")"
   ]
  },
  {
   "cell_type": "code",
   "execution_count": 20,
   "id": "88eb0105",
   "metadata": {},
   "outputs": [],
   "source": [
    "#df_id['scores'] = df_id[['score_informacja_nieprawdziwa', 'score_zakopane']].sum(axis=1, skipna=True).fillna(0)\n",
    "df_id['score_informacja_nieprawdziwa'] = 0\n",
    "df_id['scores'] = df_id[['score_informacja_nieprawdziwa', 'score_zakopane']].sum(axis=1, skipna=True).fillna(0)"
   ]
  },
  {
   "cell_type": "code",
   "execution_count": 21,
   "id": "d1a4595f",
   "metadata": {},
   "outputs": [],
   "source": [
    "df_id.loc[df_id[df_id['scores'] == 0].index, 'scores'] = np.clip(\n",
    "    np.random.normal(loc=0, scale=0.05, size=len(df_id[df_id['scores'] == 0].index)),\n",
    "    0, 1\n",
    ")"
   ]
  },
  {
   "cell_type": "code",
   "execution_count": 22,
   "id": "7ef3a515",
   "metadata": {},
   "outputs": [],
   "source": [
    "df_id = df_id.rename(columns={'points': 'votes'})"
   ]
  },
  {
   "cell_type": "markdown",
   "id": "3547c911",
   "metadata": {},
   "source": [
    "# Data from Misinformation archive\n",
    "https://wykoppl-informacjanieprawdziwa.surge.sh/"
   ]
  },
  {
   "cell_type": "code",
   "execution_count": 23,
   "id": "aea228aa",
   "metadata": {},
   "outputs": [],
   "source": [
    "df_misinfo = load_json_to_dataframe('../data/mssinfo_wykop_posts.json')"
   ]
  },
  {
   "cell_type": "code",
   "execution_count": 24,
   "id": "9bd956b0",
   "metadata": {},
   "outputs": [],
   "source": [
    "df_misinfo['scores'] = np.clip(\n",
    "    np.random.normal(loc=1, scale=0.05, size=len(df_misinfo.index)),\n",
    "    0, 1\n",
    ")"
   ]
  },
  {
   "cell_type": "markdown",
   "id": "b95e2c7e",
   "metadata": {},
   "source": [
    "# Analysis\n",
    "\n",
    "Data From ID scan: `df`  \n",
    "Data from homepage: `df_homepage`  \n",
    "Data from misinfo list: `df_misinfo`"
   ]
  },
  {
   "cell_type": "code",
   "execution_count": 25,
   "id": "2bd2c4d5",
   "metadata": {},
   "outputs": [
    {
     "data": {
      "text/plain": [
       "Index(['id', 'title', 'description', 'author', 'votes', 'comments', 'tags',\n",
       "       'alerts', 'downvotes'],\n",
       "      dtype='object')"
      ]
     },
     "execution_count": 25,
     "metadata": {},
     "output_type": "execute_result"
    }
   ],
   "source": [
    "df_homepage.columns"
   ]
  },
  {
   "cell_type": "markdown",
   "id": "50034c5a",
   "metadata": {},
   "source": [
    "For now, `df_homepage` is not yet to be joined because the comments are not fetched"
   ]
  },
  {
   "cell_type": "code",
   "execution_count": 26,
   "id": "cc81554a",
   "metadata": {},
   "outputs": [
    {
     "data": {
      "text/plain": [
       "Index(['id', 'url', 'title', 'votes', 'description', 'added_date', 'tags',\n",
       "       'alerts', 'comments', 'comments_content_points',\n",
       "       'mentions_manipulation', 'top_manipulation_comment',\n",
       "       'comment_informacja_nieprawdziwa', 'score_informacja_nieprawdziwa',\n",
       "       'score_zakopane', 'scores'],\n",
       "      dtype='object')"
      ]
     },
     "execution_count": 26,
     "metadata": {},
     "output_type": "execute_result"
    }
   ],
   "source": [
    "df_id.columns"
   ]
  },
  {
   "cell_type": "code",
   "execution_count": 27,
   "id": "ba8c8346",
   "metadata": {},
   "outputs": [
    {
     "data": {
      "text/plain": [
       "Index(['id', 'url', 'title', 'description', 'added_date', 'author', 'tags',\n",
       "       'alerts', 'votes', 'downvotes', 'scores'],\n",
       "      dtype='object')"
      ]
     },
     "execution_count": 27,
     "metadata": {},
     "output_type": "execute_result"
    }
   ],
   "source": [
    "df_misinfo.columns"
   ]
  },
  {
   "cell_type": "code",
   "execution_count": 28,
   "id": "d811ea77",
   "metadata": {},
   "outputs": [],
   "source": [
    "df_id_ready = df_id.drop(columns=[\n",
    "    'id', 'url', 'added_date', 'alerts', 'comments', 'comments_content_points', \n",
    "    'mentions_manipulation', 'top_manipulation_comment', 'comment_informacja_nieprawdziwa',\n",
    "    'score_informacja_nieprawdziwa', 'score_zakopane'\n",
    "    ]\n",
    ")"
   ]
  },
  {
   "cell_type": "code",
   "execution_count": 29,
   "id": "35537d82",
   "metadata": {},
   "outputs": [
    {
     "data": {
      "text/html": [
       "<div>\n",
       "<style scoped>\n",
       "    .dataframe tbody tr th:only-of-type {\n",
       "        vertical-align: middle;\n",
       "    }\n",
       "\n",
       "    .dataframe tbody tr th {\n",
       "        vertical-align: top;\n",
       "    }\n",
       "\n",
       "    .dataframe thead th {\n",
       "        text-align: right;\n",
       "    }\n",
       "</style>\n",
       "<table border=\"1\" class=\"dataframe\">\n",
       "  <thead>\n",
       "    <tr style=\"text-align: right;\">\n",
       "      <th></th>\n",
       "      <th>title</th>\n",
       "      <th>votes</th>\n",
       "      <th>description</th>\n",
       "      <th>tags</th>\n",
       "      <th>scores</th>\n",
       "    </tr>\n",
       "  </thead>\n",
       "  <tbody>\n",
       "    <tr>\n",
       "      <th>0</th>\n",
       "      <td>Rządy PiS bez cenzury</td>\n",
       "      <td>2.0</td>\n",
       "      <td>Złoty interes</td>\n",
       "      <td>[polityka, biznes, bekazpisu]</td>\n",
       "      <td>0.064174</td>\n",
       "    </tr>\n",
       "    <tr>\n",
       "      <th>1</th>\n",
       "      <td>Elon Musk robi Hitlera na wiecu prezydenckim</td>\n",
       "      <td>5.0</td>\n",
       "      <td>Nasi dziadkowie przewracają się w grobach.</td>\n",
       "      <td>[elon, musk, wiec, hitler]</td>\n",
       "      <td>0.627917</td>\n",
       "    </tr>\n",
       "    <tr>\n",
       "      <th>2</th>\n",
       "      <td>K. Nawrocki przez pół roku mieszkał w apartame...</td>\n",
       "      <td>828.0</td>\n",
       "      <td>Karol Nawrocki jako dyrektor Muzeum II Wojny Ś...</td>\n",
       "      <td>[polityka, wybory, sejm, pis]</td>\n",
       "      <td>0.101737</td>\n",
       "    </tr>\n",
       "    <tr>\n",
       "      <th>3</th>\n",
       "      <td>Elon Musk chce kupić Intela</td>\n",
       "      <td>12.0</td>\n",
       "      <td>Nieoczekiwany zwrot u Intela. Okazuje się, że ...</td>\n",
       "      <td>[elonmusk, intel, technologia]</td>\n",
       "      <td>0.000000</td>\n",
       "    </tr>\n",
       "    <tr>\n",
       "      <th>4</th>\n",
       "      <td>Pierwsze decyzje Donalda Trumpa.</td>\n",
       "      <td>3.0</td>\n",
       "      <td>Pierwsze decyzje Donalda Trumpa.</td>\n",
       "      <td>[ekonomia, usa, trump, wydarzeniaswiatedek, sw...</td>\n",
       "      <td>0.000000</td>\n",
       "    </tr>\n",
       "  </tbody>\n",
       "</table>\n",
       "</div>"
      ],
      "text/plain": [
       "                                               title  votes  \\\n",
       "0                              Rządy PiS bez cenzury    2.0   \n",
       "1       Elon Musk robi Hitlera na wiecu prezydenckim    5.0   \n",
       "2  K. Nawrocki przez pół roku mieszkał w apartame...  828.0   \n",
       "3                        Elon Musk chce kupić Intela   12.0   \n",
       "4                   Pierwsze decyzje Donalda Trumpa.    3.0   \n",
       "\n",
       "                                         description  \\\n",
       "0                                      Złoty interes   \n",
       "1         Nasi dziadkowie przewracają się w grobach.   \n",
       "2  Karol Nawrocki jako dyrektor Muzeum II Wojny Ś...   \n",
       "3  Nieoczekiwany zwrot u Intela. Okazuje się, że ...   \n",
       "4                   Pierwsze decyzje Donalda Trumpa.   \n",
       "\n",
       "                                                tags    scores  \n",
       "0                      [polityka, biznes, bekazpisu]  0.064174  \n",
       "1                         [elon, musk, wiec, hitler]  0.627917  \n",
       "2                      [polityka, wybory, sejm, pis]  0.101737  \n",
       "3                     [elonmusk, intel, technologia]  0.000000  \n",
       "4  [ekonomia, usa, trump, wydarzeniaswiatedek, sw...  0.000000  "
      ]
     },
     "execution_count": 29,
     "metadata": {},
     "output_type": "execute_result"
    }
   ],
   "source": [
    "df_id_ready.head()"
   ]
  },
  {
   "cell_type": "code",
   "execution_count": 30,
   "id": "ab0eed97",
   "metadata": {},
   "outputs": [],
   "source": [
    "df_misinfo_ready = df_misinfo.drop(columns=[\n",
    "    'id', 'url', 'added_date', 'author', 'alerts', 'downvotes'\n",
    "    ]\n",
    ")"
   ]
  },
  {
   "cell_type": "code",
   "execution_count": 31,
   "id": "9feccce0",
   "metadata": {},
   "outputs": [
    {
     "data": {
      "text/html": [
       "<div>\n",
       "<style scoped>\n",
       "    .dataframe tbody tr th:only-of-type {\n",
       "        vertical-align: middle;\n",
       "    }\n",
       "\n",
       "    .dataframe tbody tr th {\n",
       "        vertical-align: top;\n",
       "    }\n",
       "\n",
       "    .dataframe thead th {\n",
       "        text-align: right;\n",
       "    }\n",
       "</style>\n",
       "<table border=\"1\" class=\"dataframe\">\n",
       "  <thead>\n",
       "    <tr style=\"text-align: right;\">\n",
       "      <th></th>\n",
       "      <th>title</th>\n",
       "      <th>description</th>\n",
       "      <th>tags</th>\n",
       "      <th>votes</th>\n",
       "      <th>scores</th>\n",
       "    </tr>\n",
       "  </thead>\n",
       "  <tbody>\n",
       "    <tr>\n",
       "      <th>0</th>\n",
       "      <td>We Francji spokojnie. W sylwestra spalono tylk...</td>\n",
       "      <td>W noc sylwestrową we Francji spalono \"tylko\" 9...</td>\n",
       "      <td>[europa, swiat, imigranci, ciekawostki, francja]</td>\n",
       "      <td>2305</td>\n",
       "      <td>1.000000</td>\n",
       "    </tr>\n",
       "    <tr>\n",
       "      <th>1</th>\n",
       "      <td>[Afera Prezydencka] Moderator fDy</td>\n",
       "      <td>A gdyby tak większa ilość użytkowników #wykop ...</td>\n",
       "      <td>[wykop, afera, aferaprezydecka, lechwalesacont...</td>\n",
       "      <td>428</td>\n",
       "      <td>0.998751</td>\n",
       "    </tr>\n",
       "    <tr>\n",
       "      <th>2</th>\n",
       "      <td>Szczera wypowiedź Tomasza Lisa</td>\n",
       "      <td>pan redaktor w końcu powiedział co tak naprawd...</td>\n",
       "      <td>[polityka, heheszki, lisnadzis, kod, media]</td>\n",
       "      <td>1357</td>\n",
       "      <td>0.938996</td>\n",
       "    </tr>\n",
       "    <tr>\n",
       "      <th>3</th>\n",
       "      <td>Inwazja zombie-islamu na Europę stała się fakt...</td>\n",
       "      <td>Zobaczcie jak przybysze bawią się z Niemką w c...</td>\n",
       "      <td>[europa, islam, imigranci, kolonia, uchodzcy, ...</td>\n",
       "      <td>145</td>\n",
       "      <td>0.871840</td>\n",
       "    </tr>\n",
       "    <tr>\n",
       "      <th>4</th>\n",
       "      <td>Czy tak wyglądały ataki w Koloni  w Nowy Rok?</td>\n",
       "      <td>Podejrzewam że to dopiero początek wrzut tego ...</td>\n",
       "      <td>[europa, imigranci, islam]</td>\n",
       "      <td>33</td>\n",
       "      <td>1.000000</td>\n",
       "    </tr>\n",
       "  </tbody>\n",
       "</table>\n",
       "</div>"
      ],
      "text/plain": [
       "                                               title  \\\n",
       "0  We Francji spokojnie. W sylwestra spalono tylk...   \n",
       "1                  [Afera Prezydencka] Moderator fDy   \n",
       "2                     Szczera wypowiedź Tomasza Lisa   \n",
       "3  Inwazja zombie-islamu na Europę stała się fakt...   \n",
       "4      Czy tak wyglądały ataki w Koloni  w Nowy Rok?   \n",
       "\n",
       "                                         description  \\\n",
       "0  W noc sylwestrową we Francji spalono \"tylko\" 9...   \n",
       "1  A gdyby tak większa ilość użytkowników #wykop ...   \n",
       "2  pan redaktor w końcu powiedział co tak naprawd...   \n",
       "3  Zobaczcie jak przybysze bawią się z Niemką w c...   \n",
       "4  Podejrzewam że to dopiero początek wrzut tego ...   \n",
       "\n",
       "                                                tags  votes    scores  \n",
       "0   [europa, swiat, imigranci, ciekawostki, francja]   2305  1.000000  \n",
       "1  [wykop, afera, aferaprezydecka, lechwalesacont...    428  0.998751  \n",
       "2        [polityka, heheszki, lisnadzis, kod, media]   1357  0.938996  \n",
       "3  [europa, islam, imigranci, kolonia, uchodzcy, ...    145  0.871840  \n",
       "4                         [europa, imigranci, islam]     33  1.000000  "
      ]
     },
     "execution_count": 31,
     "metadata": {},
     "output_type": "execute_result"
    }
   ],
   "source": [
    "df_misinfo_ready.head()"
   ]
  },
  {
   "cell_type": "code",
   "execution_count": 32,
   "id": "ac63ec83",
   "metadata": {},
   "outputs": [],
   "source": [
    "df = pd.concat([df_misinfo_ready, df_id_ready], ignore_index=True)"
   ]
  },
  {
   "cell_type": "code",
   "execution_count": 33,
   "id": "1e21d8be",
   "metadata": {},
   "outputs": [],
   "source": [
    "df['scores'] = df['scores'].apply(lambda x: min(1, max(0, x)))"
   ]
  },
  {
   "cell_type": "code",
   "execution_count": 34,
   "id": "ba8cf988",
   "metadata": {},
   "outputs": [
    {
     "data": {
      "text/plain": [
       "<Axes: ylabel='Frequency'>"
      ]
     },
     "execution_count": 34,
     "metadata": {},
     "output_type": "execute_result"
    },
    {
     "data": {
      "image/png": "[encoded data removed]",
      "text/plain": [
       "<Figure size 640x480 with 1 Axes>"
      ]
     },
     "metadata": {},
     "output_type": "display_data"
    }
   ],
   "source": [
    "df['scores'].sort_values().plot(kind='hist', bins=20)"
   ]
  },
  {
   "cell_type": "markdown",
   "id": "157497d4",
   "metadata": {},
   "source": [
    "# Preparing the data"
   ]
  },
  {
   "cell_type": "code",
   "execution_count": 35,
   "id": "52db52b1",
   "metadata": {},
   "outputs": [],
   "source": [
    "df[\"text\"] = (\n",
    "    df[\"title\"].fillna('') + \" \" +\n",
    "    df[\"description\"].fillna('') + \" \" +\n",
    "    df[\"tags\"].apply(lambda x: \" \".join(x) if isinstance(x, list) else x)\n",
    ")"
   ]
  },
  {
   "cell_type": "code",
   "execution_count": 36,
   "id": "2f3b277b",
   "metadata": {},
   "outputs": [],
   "source": [
    "def clean_text(t):\n",
    "    def _normalize_polish_characters(text):\n",
    "        mapping = {\n",
    "            \"ą\": \"a\", \"ć\": \"c\", \"ę\": \"e\", \"ł\": \"l\",\n",
    "            \"ń\": \"n\", \"ó\": \"o\", \"ś\": \"s\", \"ź\": \"z\", \"ż\": \"z\",\n",
    "            \"Ą\": \"A\", \"Ć\": \"C\", \"Ę\": \"E\", \"Ł\": \"L\",\n",
    "            \"Ń\": \"N\", \"Ó\": \"O\", \"Ś\": \"S\", \"Ź\": \"Z\", \"Ż\": \"Z\"\n",
    "        }\n",
    "        for k, v in mapping.items():\n",
    "            text = text.replace(k, v)\n",
    "        return text\n",
    "    t = t.lower()\n",
    "    t = _normalize_polish_characters(t)\n",
    "    t = re.sub(r\"http\\S+\", \"\", t)\n",
    "    t = re.sub(r\"[^a-z0-9\\s]\", \"\", t)\n",
    "    return t.strip()\n",
    "\n",
    "df[\"clean_text\"] = df[\"text\"].apply(clean_text)"
   ]
  },
  {
   "cell_type": "code",
   "execution_count": 37,
   "id": "a399cea8",
   "metadata": {},
   "outputs": [
    {
     "data": {
      "text/plain": [
       "0    we francji spokojnie w sylwestra spalono tylko...\n",
       "1    afera prezydencka moderator fdy a gdyby tak wi...\n",
       "2    szczera wypowiedz tomasza lisa pan redaktor w ...\n",
       "3    inwazja zombieislamu na europe stala sie fakte...\n",
       "4    czy tak wygladaly ataki w koloni  w nowy rok p...\n",
       "Name: clean_text, dtype: object"
      ]
     },
     "execution_count": 37,
     "metadata": {},
     "output_type": "execute_result"
    }
   ],
   "source": [
    "df['clean_text'].head()"
   ]
  },
  {
   "cell_type": "markdown",
   "id": "72f411e8",
   "metadata": {},
   "source": [
    "## Initial model"
   ]
  },
  {
   "cell_type": "code",
   "execution_count": 38,
   "id": "68881dca",
   "metadata": {},
   "outputs": [
    {
     "name": "stdout",
     "output_type": "stream",
     "text": [
      "MAE: 0.22536426634617063\n",
      "R²: 0.4958065579272678\n"
     ]
    }
   ],
   "source": [
    "from sklearn.model_selection import train_test_split\n",
    "from sklearn.feature_extraction.text import TfidfVectorizer\n",
    "from sklearn.linear_model import Ridge\n",
    "from sklearn.metrics import mean_absolute_error, r2_score\n",
    "\n",
    "X_train, X_test, y_train, y_test = train_test_split(df[\"clean_text\"], df[\"scores\"], test_size=0.2, random_state=42)\n",
    "\n",
    "vectorizer = TfidfVectorizer(\n",
    "    max_features=10000,\n",
    "    ngram_range=(1,2),\n",
    "    min_df=2\n",
    ")\n",
    "\n",
    "X_train_tfidf = vectorizer.fit_transform(X_train)\n",
    "X_test_tfidf = vectorizer.transform(X_test)\n",
    "\n",
    "model = Ridge(alpha=1.0)\n",
    "model.fit(X_train_tfidf, y_train)\n",
    "\n",
    "y_pred = model.predict(X_test_tfidf)\n",
    "\n",
    "print(\"MAE:\", mean_absolute_error(y_test, y_pred))\n",
    "print(\"R²:\", r2_score(y_test, y_pred))"
   ]
  },
  {
   "cell_type": "code",
   "execution_count": 39,
   "id": "84ba736f",
   "metadata": {},
   "outputs": [
    {
     "name": "stdout",
     "output_type": "stream",
     "text": [
      "0.6233216750189967 1.0 uk obniza vat z 20 do 5 na wszystkie produkty w sklepach  taka pomoc dla obywateli na 6mcy europa uk vat ekonomia polityka\n",
      "0.07046544315806735 0.0 rok jedzenia chicken sandwich w popeyes za darmo kolejnym otwarciom nowych lokali popeyes w polsce towarzyszy promocja w ktorej na klientow czeka az rok darmowego jedze popeyes promocja darmo kurczak\n",
      "0.47842213372739373 1.0 to tylko jakis patent   patent z 2015 roku teoriespiskowe patent covid19\n",
      "0.06937445255787658 0.08559385623378474 microsoft account od lutego duza zmiana w logowaniu sie do konta od lutego jesli zalogujesz sie uzytkownicy beda automatycznie zalogowani caly czas istnieje nowa globalna opcja wylogowania wyloguj sie wszedzie moze to potrwac do 24 godzin zanim microsoft wyloguje uzytkownika ze wszystkich urzadzen chyba ich troche ponioslo microsoft windows cyberbezpieczenstwo security cybersecurity komputery\n",
      "0.33763584046245426 0.012349442072239605 rzad w uk domaga sie dostepu do szyfrowanych danych uzytkownikow apple eng brytyjski the home office wystawil zawiadomienie do apple o to aby firma stworzyla backdoor dajacy dostep do szyfrowanych danych uzytkownikow na mocy ich investigatory powers act dopiero co ue chciala likwidowac szyfrowanie ssl 1984 puka do drzwi technologia bezpieczenstwo polityka swiat gruparatowaniapoziomu\n",
      "0.29998235511682736 0.0 przerazajacy ludzie z hells angels ktorzy rzadza za kratami dzis opowiemy o niesamowitej historii w ktorej czlonkowie hells angels przejeli kontrole nad wiezieniem zmieniajac je w swoje wlasne krolestwo jak to mozliwe ze w tak zamknietym srodowisku byli w stanie narzucic swoje prawa i rzadzic za kratami wiezienie prawo wyrok gang klub kryminalne\n",
      "0.10949604729653686 0.0 pfas wieczne chemikalia w naszym srodowisku prof stanislaw gawronski opowiada o wiecznych chemikaliach to jedna z grup trwalych zwiazkow zanieczyszczajacych srodowisko inna w zachowaniu anizeli pozostale w srodowisku zwiazki te nie tkwia zatrzymane wrecz odwrotnie bardzo latwo sie przemieszczaja bo prawie nie ulegaja rozkladowi chemia nauka swiatnauki biologia zdrowie dieta\n",
      "0.07260938377348411 0.09132981502081589 tesla byd saic geely pozywaja unie europejska chodzi o cla na elektryki z chin wspomniane w tytule firmy zdecydowaly sie zaskarzyc decyzje unii europejskiej dotyczaca nalozenia cel na samochody elektryczne produkowane na terenie panstwa srodka dodatkowe taryfy przywozowe obowiazuja od konca pazdziernika 2024 roku dotycza wszystkich aut wyjez uniaeuropejska clazaporowenaelektryki teslaswietegoelonamuska elektromobilnosczdodacjami superhiperautkaelektrycznetakiezehohohohohohohhoo chinskieautaevsuperdoplaty\n",
      "0.16650816588301706 0.6838479155838336 toaleta za 650 tys zl to nie wszystko 650 tysiecy zlotych tyle warszawa zaplacila za miejska toalete w parku skaryszewskim warszawa\n",
      "0.11896294002781484 0.0 asystent medyczny zawod ktory staje sie fundamentem wspolczesnej ochrony zdrowiawyzsza szkola bezpieczenstwa wydzial w gdansku asystent medyczny studia gdanskw dynamicznie rozwijajacym sie sektorze ochrony zdrowia rosnie zapotrzebowanie na profesjonalistow ktorzy wspieraja personel medyczny i dbaja o  praca medycyna studia2025 asystentmedyczny\n"
     ]
    }
   ],
   "source": [
    "for pr, ts, x_ts, _ in zip(y_pred, y_test, X_test, range(10)):\n",
    "    print(pr, ts, x_ts)"
   ]
  },
  {
   "cell_type": "markdown",
   "id": "ab1f7bed",
   "metadata": {},
   "source": [
    "## Change problem to classification"
   ]
  },
  {
   "cell_type": "code",
   "execution_count": 40,
   "id": "662245d0",
   "metadata": {},
   "outputs": [
    {
     "data": {
      "text/plain": [
       "0        1.000000\n",
       "1        0.998751\n",
       "2        0.938996\n",
       "3        0.871840\n",
       "4        1.000000\n",
       "           ...   \n",
       "12062    0.054837\n",
       "12063    0.045674\n",
       "12064    0.046523\n",
       "12065    0.025547\n",
       "12066    0.000000\n",
       "Name: scores, Length: 12067, dtype: float64"
      ]
     },
     "execution_count": 40,
     "metadata": {},
     "output_type": "execute_result"
    }
   ],
   "source": [
    "df[\"scores\"]"
   ]
  },
  {
   "cell_type": "code",
   "execution_count": 41,
   "id": "a61f1125",
   "metadata": {},
   "outputs": [
    {
     "data": {
      "text/plain": [
       "label\n",
       "0    0.710533\n",
       "2    0.234441\n",
       "1    0.055026\n",
       "Name: proportion, dtype: float64"
      ]
     },
     "execution_count": 41,
     "metadata": {},
     "output_type": "execute_result"
    }
   ],
   "source": [
    "df[\"label\"] = df[\"scores\"].apply(lambda x: 0 if x < 0.35 else (2 if x > 0.85 else 1))\n",
    "\n",
    "df[\"label\"].value_counts(normalize=True)"
   ]
  },
  {
   "cell_type": "code",
   "execution_count": 42,
   "id": "ed1410d7",
   "metadata": {},
   "outputs": [],
   "source": [
    "df = df[~df['clean_text'].duplicated()].reset_index(drop=True)"
   ]
  },
  {
   "cell_type": "code",
   "execution_count": 43,
   "id": "3e78a442",
   "metadata": {},
   "outputs": [
    {
     "name": "stdout",
     "output_type": "stream",
     "text": [
      "              precision    recall  f1-score   support\n",
      "\n",
      "           0      0.887     0.862     0.874      1715\n",
      "           1      0.237     0.338     0.279       133\n",
      "           2      0.787     0.773     0.780       550\n",
      "\n",
      "    accuracy                          0.813      2398\n",
      "   macro avg      0.637     0.658     0.644      2398\n",
      "weighted avg      0.828     0.813     0.820      2398\n",
      "\n"
     ]
    },
    {
     "data": {
      "image/png": "[encoded data removed]",
      "text/plain": [
       "<Figure size 640x480 with 2 Axes>"
      ]
     },
     "metadata": {},
     "output_type": "display_data"
    }
   ],
   "source": [
    "from sklearn.linear_model import LogisticRegression\n",
    "from sklearn.model_selection import train_test_split\n",
    "from sklearn.feature_extraction.text import TfidfVectorizer\n",
    "from sklearn.pipeline import Pipeline\n",
    "from sklearn.metrics import classification_report, confusion_matrix\n",
    "import seaborn as sns\n",
    "import matplotlib.pyplot as plt\n",
    "\n",
    "X_train, X_test, y_train, y_test = train_test_split(\n",
    "    df[\"clean_text\"], df[\"label\"], test_size=0.2, random_state=42, stratify=df[\"label\"]\n",
    ")\n",
    "\n",
    "\n",
    "model = Pipeline([\n",
    "    (\"tfidf\", TfidfVectorizer(max_features=10000, ngram_range=(1,2), min_df=2)),\n",
    "    (\"clf\", LogisticRegression(max_iter=1000, class_weight='balanced'))\n",
    "])\n",
    "\n",
    "model.fit(X_train, y_train)\n",
    "\n",
    "y_pred = model.predict(X_test)\n",
    "\n",
    "print(classification_report(y_test, y_pred, digits=3))\n",
    "\n",
    "cm = confusion_matrix(y_test, y_pred)\n",
    "sns.heatmap(cm, annot=True, fmt='d', cmap='Blues')\n",
    "plt.xlabel(\"Prediction\")\n",
    "plt.ylabel(\"Real\")\n",
    "plt.title(\"Confusion Matrix\")\n",
    "plt.show()"
   ]
  },
  {
   "cell_type": "markdown",
   "id": "360fcacd",
   "metadata": {},
   "source": [
    "### Class balancing"
   ]
  },
  {
   "cell_type": "code",
   "execution_count": 44,
   "id": "1468a0b5",
   "metadata": {},
   "outputs": [
    {
     "name": "stdout",
     "output_type": "stream",
     "text": [
      "              precision    recall  f1-score   support\n",
      "\n",
      "           0      0.956     0.941     0.948      1715\n",
      "           1      0.512     0.650     0.573       100\n",
      "           2      0.580     0.580     0.580       100\n",
      "\n",
      "    accuracy                          0.907      1915\n",
      "   macro avg      0.682     0.724     0.700      1915\n",
      "weighted avg      0.913     0.907     0.909      1915\n",
      "\n"
     ]
    },
    {
     "data": {
      "image/png": "[encoded data removed]",
      "text/plain": [
       "<Figure size 640x480 with 2 Axes>"
      ]
     },
     "metadata": {},
     "output_type": "display_data"
    }
   ],
   "source": [
    "from sklearn.utils import resample\n",
    "\n",
    "majority = df[df.label == 0]\n",
    "minority1 = df[df.label == 1]\n",
    "minority2 = df[df.label == 2]\n",
    "\n",
    "minority1_upsampled = resample(minority1, replace=True, n_samples=500, random_state=42)\n",
    "minority2_upsampled = resample(minority2, replace=True, n_samples=500, random_state=42)\n",
    "\n",
    "df_balanced = pd.concat([majority, minority1_upsampled, minority2_upsampled])\n",
    "\n",
    "# Retraining\n",
    "X_train, X_test, y_train, y_test = train_test_split(\n",
    "    df_balanced[\"clean_text\"], df_balanced[\"label\"], test_size=0.2, random_state=42, stratify=df_balanced[\"label\"]\n",
    ")\n",
    "\n",
    "\n",
    "model = Pipeline([\n",
    "    (\"tfidf\", TfidfVectorizer(max_features=10000, ngram_range=(1,3), min_df=2, sublinear_tf=True)), # bigrams and trigrams\n",
    "    (\"clf\", LogisticRegression(max_iter=1000, class_weight='balanced'))\n",
    "])\n",
    "\n",
    "model.fit(X_train, y_train)\n",
    "\n",
    "y_pred = model.predict(X_test)\n",
    "\n",
    "print(classification_report(y_test, y_pred, digits=3))\n",
    "\n",
    "cm = confusion_matrix(y_test, y_pred)\n",
    "sns.heatmap(cm, annot=True, fmt='d', cmap='Blues')\n",
    "plt.xlabel(\"Prediction\")\n",
    "plt.ylabel(\"Real\")\n",
    "plt.title(\"Confusion Matrix\")\n",
    "plt.show()"
   ]
  },
  {
   "cell_type": "markdown",
   "id": "68ece4fa",
   "metadata": {},
   "source": [
    "### Try only 2 labels classification"
   ]
  },
  {
   "cell_type": "code",
   "execution_count": 45,
   "id": "c6bd0dca",
   "metadata": {},
   "outputs": [
    {
     "data": {
      "text/plain": [
       "label\n",
       "0    0.715096\n",
       "1    0.284904\n",
       "Name: proportion, dtype: float64"
      ]
     },
     "execution_count": 45,
     "metadata": {},
     "output_type": "execute_result"
    }
   ],
   "source": [
    "df[\"label\"] = df[\"scores\"].apply(lambda x: 0 if x < 0.5 else 1)\n",
    "\n",
    "df[\"label\"].value_counts(normalize=True)"
   ]
  },
  {
   "cell_type": "code",
   "execution_count": 46,
   "id": "dd5803a0",
   "metadata": {},
   "outputs": [
    {
     "name": "stdout",
     "output_type": "stream",
     "text": [
      "              precision    recall  f1-score   support\n",
      "\n",
      "           0      0.896     0.907     0.901      1715\n",
      "           1      0.758     0.735     0.746       683\n",
      "\n",
      "    accuracy                          0.858      2398\n",
      "   macro avg      0.827     0.821     0.824      2398\n",
      "weighted avg      0.857     0.858     0.857      2398\n",
      "\n"
     ]
    },
    {
     "data": {
      "image/png": "[encoded data removed]",
      "text/plain": [
       "<Figure size 640x480 with 2 Axes>"
      ]
     },
     "metadata": {},
     "output_type": "display_data"
    }
   ],
   "source": [
    "X_train, X_test, y_train, y_test = train_test_split(\n",
    "    df[\"clean_text\"], df[\"label\"], test_size=0.2, random_state=42, stratify=df[\"label\"]\n",
    ")\n",
    "\n",
    "\n",
    "model = Pipeline([\n",
    "    (\"tfidf\", TfidfVectorizer(max_features=10000, ngram_range=(1,2), min_df=2)),\n",
    "    (\"clf\", LogisticRegression(max_iter=1000, class_weight='balanced'))\n",
    "])\n",
    "\n",
    "model.fit(X_train, y_train)\n",
    "\n",
    "y_pred = model.predict(X_test)\n",
    "\n",
    "print(classification_report(y_test, y_pred, digits=3))\n",
    "\n",
    "cm = confusion_matrix(y_test, y_pred)\n",
    "sns.heatmap(cm, annot=True, fmt='d', cmap='Blues')\n",
    "plt.xlabel(\"Prediction\")\n",
    "plt.ylabel(\"Real\")\n",
    "plt.title(\"Confusion Matrix\")\n",
    "plt.show()"
   ]
  },
  {
   "cell_type": "markdown",
   "id": "8854ae37",
   "metadata": {},
   "source": [
    "### With balancing"
   ]
  },
  {
   "cell_type": "code",
   "execution_count": 47,
   "id": "b9a6de84",
   "metadata": {},
   "outputs": [
    {
     "name": "stdout",
     "output_type": "stream",
     "text": [
      "              precision    recall  f1-score   support\n",
      "\n",
      "           0      0.864     0.903     0.883      1715\n",
      "           1      0.898     0.858     0.878      1715\n",
      "\n",
      "    accuracy                          0.880      3430\n",
      "   macro avg      0.881     0.880     0.880      3430\n",
      "weighted avg      0.881     0.880     0.880      3430\n",
      "\n"
     ]
    },
    {
     "data": {
      "image/png": "[encoded data removed]",
      "text/plain": [
       "<Figure size 640x480 with 2 Axes>"
      ]
     },
     "metadata": {},
     "output_type": "display_data"
    }
   ],
   "source": [
    "from sklearn.utils import resample\n",
    "\n",
    "majority = df[df.label == 0]\n",
    "minority = df[df.label == 1]\n",
    "\n",
    "minority_upsampled = resample(minority, replace=True, n_samples=len(majority), random_state=42)\n",
    "\n",
    "df_balanced = pd.concat([majority, minority_upsampled])\n",
    "\n",
    "# Retraining\n",
    "X_train, X_test, y_train, y_test = train_test_split(\n",
    "    df_balanced[\"clean_text\"], df_balanced[\"label\"], test_size=0.2, random_state=42, stratify=df_balanced[\"label\"]\n",
    ")\n",
    "\n",
    "\n",
    "model = Pipeline([\n",
    "    (\"tfidf\", TfidfVectorizer(max_features=10000, ngram_range=(1,3), min_df=2, sublinear_tf=True)), # bigrams and trigrams\n",
    "    (\"clf\", LogisticRegression(max_iter=1000, class_weight='balanced'))\n",
    "])\n",
    "\n",
    "model.fit(X_train, y_train)\n",
    "\n",
    "y_pred = model.predict(X_test)\n",
    "\n",
    "print(classification_report(y_test, y_pred, digits=3))\n",
    "\n",
    "cm = confusion_matrix(y_test, y_pred)\n",
    "sns.heatmap(cm, annot=True, fmt='d', cmap='Blues')\n",
    "plt.xlabel(\"Prediction\")\n",
    "plt.ylabel(\"Real\")\n",
    "plt.title(\"Confusion Matrix\")\n",
    "plt.show()"
   ]
  },
  {
   "cell_type": "code",
   "execution_count": 48,
   "id": "5c06a30b",
   "metadata": {},
   "outputs": [
    {
     "name": "stdout",
     "output_type": "stream",
     "text": [
      "-> Top 15 słów wskazujących na klasę 1 (manipulacja):\n",
      "swiat (8.588)\n",
      "koronawirus (7.696)\n",
      "wykop (6.392)\n",
      "covid19 (5.502)\n",
      "moderacja (5.025)\n",
      "4konserwy (4.957)\n",
      "europa (4.919)\n",
      "szczepienia (4.211)\n",
      "bekazlewactwa (3.872)\n",
      "moderacjacontent (3.525)\n",
      "lgbt (3.284)\n",
      "neuropa (3.208)\n",
      "afera (3.184)\n",
      "bekazpisu (3.151)\n",
      "polska (3.068)\n",
      "\n",
      "-> Top 15 słów wskazujących na klasę 0 (prawdziwe informacje):\n",
      "nieruchomosci (-3.669)\n",
      "gospodarka (-3.397)\n",
      "wydarzenia (-3.004)\n",
      "2024 (-2.886)\n",
      "gry (-2.767)\n",
      "trump (-2.639)\n",
      "historia (-2.611)\n",
      "wypadek (-2.544)\n",
      "ciekawostki (-2.526)\n",
      "demografia (-2.306)\n",
      "inwestycje (-2.234)\n",
      "kryminalne (-2.156)\n",
      "motoryzacja (-2.127)\n",
      "gruparatowaniapoziomu (-2.104)\n",
      "wiadomosci (-2.038)\n"
     ]
    }
   ],
   "source": [
    "vectorizer = model.named_steps['tfidf']\n",
    "clf = model.named_steps['clf']\n",
    "\n",
    "feature_names = np.array(vectorizer.get_feature_names_out())\n",
    "coefs = clf.coef_[0]\n",
    "\n",
    "topn_pos = np.argsort(coefs)[-15:]   # top cechy dla klasy 1\n",
    "topn_neg = np.argsort(coefs)[:15]    # top cechy dla klasy 0\n",
    "\n",
    "print(\"-> Top 15 słów wskazujących na klasę 1 (manipulacja):\")\n",
    "for idx in topn_pos[::-1]:\n",
    "    print(f\"{feature_names[idx]} ({coefs[idx]:.3f})\")\n",
    "\n",
    "print(\"\\n-> Top 15 słów wskazujących na klasę 0 (prawdziwe informacje):\")\n",
    "for idx in topn_neg:\n",
    "    print(f\"{feature_names[idx]} ({coefs[idx]:.3f})\")"
   ]
  }
 ],
 "metadata": {
  "kernelspec": {
   "display_name": "Python 3",
   "language": "python",
   "name": "python3"
  },
  "language_info": {
   "codemirror_mode": {
    "name": "ipython",
    "version": 3
   },
   "file_extension": ".py",
   "mimetype": "text/x-python",
   "name": "python",
   "nbconvert_exporter": "python",
   "pygments_lexer": "ipython3",
   "version": "3.10.12"
  }
 },
 "nbformat": 4,
 "nbformat_minor": 5
}
