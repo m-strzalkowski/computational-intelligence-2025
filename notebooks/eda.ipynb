{
 "cells": [
  {
   "cell_type": "code",
   "execution_count": 106,
   "id": "9b2ce768",
   "metadata": {},
   "outputs": [],
   "source": [
    "import pandas as pd\n",
    "import json\n",
    "import matplotlib.pyplot as plt\n",
    "import numpy as np\n",
    "import re\n",
    "\n",
    "\n",
    "def load_json_to_dataframe(file_path):\n",
    "    with open(file_path, 'r', encoding='utf-8') as file:\n",
    "        data = json.load(file)\n",
    "    return pd.DataFrame(data['data'])\n",
    "\n",
    "def jitter_labels(y, sigma=0.05):\n",
    "    \"\"\"Adding random noise to the data\"\"\"\n",
    "    return np.clip(np.random.normal(y, sigma), 0, 1)"
   ]
  },
  {
   "cell_type": "markdown",
   "id": "ff2024d1",
   "metadata": {},
   "source": [
    "# Data from Homepage\n",
    "data is from API"
   ]
  },
  {
   "cell_type": "code",
   "execution_count": 107,
   "id": "898958fe",
   "metadata": {},
   "outputs": [],
   "source": [
    "link_homepage = '../data/homepage_posts_data.json'\n",
    "df_homepage = load_json_to_dataframe(link_homepage)"
   ]
  },
  {
   "cell_type": "code",
   "execution_count": 108,
   "id": "94e5cee6",
   "metadata": {},
   "outputs": [
    {
     "data": {
      "text/plain": [
       "Index(['id', 'created_at', 'title', 'slug', 'description', 'source', 'author',\n",
       "       'published_at', 'votes', 'voted', 'comments', 'tags', 'hot', 'adult',\n",
       "       'media', 'editable', 'deletable', 'resource', 'actions', 'archive',\n",
       "       'observed_discussion', 'parent', 'tag_pinned_content', 'pinnable',\n",
       "       'recommended', 'family_friendly', 'favourite', 'alerts', 'ama'],\n",
       "      dtype='object')"
      ]
     },
     "execution_count": 108,
     "metadata": {},
     "output_type": "execute_result"
    }
   ],
   "source": [
    "df_homepage.columns"
   ]
  },
  {
   "cell_type": "code",
   "execution_count": 109,
   "id": "99efdf26",
   "metadata": {},
   "outputs": [],
   "source": [
    "df_homepage = df_homepage.drop(columns=[\n",
    "    'created_at', 'source', 'slug', 'published_at', 'hot', 'adult', 'media', 'observed_discussion', 'parent', 'tag_pinned_content', 'pinnable', 'editable', 'deletable', 'resource', 'actions', 'archive', 'recommended', 'family_friendly', 'favourite', 'ama', 'voted'\n",
    "])"
   ]
  },
  {
   "cell_type": "code",
   "execution_count": 110,
   "id": "2132dd60",
   "metadata": {},
   "outputs": [],
   "source": [
    "df_homepage['author'] = df_homepage['author'].apply(lambda x: x['username'])\n",
    "df_homepage['downvotes'] = df_homepage['votes'].apply(lambda x: x['down'])\n",
    "df_homepage['votes'] = df_homepage['votes'].apply(lambda x: x['up'])"
   ]
  },
  {
   "cell_type": "code",
   "execution_count": 111,
   "id": "2a2c6e5e",
   "metadata": {},
   "outputs": [
    {
     "data": {
      "text/html": [
       "<div>\n",
       "<style scoped>\n",
       "    .dataframe tbody tr th:only-of-type {\n",
       "        vertical-align: middle;\n",
       "    }\n",
       "\n",
       "    .dataframe tbody tr th {\n",
       "        vertical-align: top;\n",
       "    }\n",
       "\n",
       "    .dataframe thead th {\n",
       "        text-align: right;\n",
       "    }\n",
       "</style>\n",
       "<table border=\"1\" class=\"dataframe\">\n",
       "  <thead>\n",
       "    <tr style=\"text-align: right;\">\n",
       "      <th></th>\n",
       "      <th>id</th>\n",
       "      <th>title</th>\n",
       "      <th>description</th>\n",
       "      <th>author</th>\n",
       "      <th>votes</th>\n",
       "      <th>comments</th>\n",
       "      <th>tags</th>\n",
       "      <th>alerts</th>\n",
       "      <th>downvotes</th>\n",
       "    </tr>\n",
       "  </thead>\n",
       "  <tbody>\n",
       "    <tr>\n",
       "      <th>0</th>\n",
       "      <td>7766021</td>\n",
       "      <td>Pracujących Polaków nie stać nawet na metr mie...</td>\n",
       "      <td>Polaków nie stać na zakup nawet 1 m kw. mieszk...</td>\n",
       "      <td>ross-flow</td>\n",
       "      <td>485</td>\n",
       "      <td>{'hot': False, 'count': 222}</td>\n",
       "      <td>[nieruchomosci, wynajem, rynekwtorny, mieszkania]</td>\n",
       "      <td>[]</td>\n",
       "      <td>13</td>\n",
       "    </tr>\n",
       "    <tr>\n",
       "      <th>1</th>\n",
       "      <td>7798801</td>\n",
       "      <td>Owczarki zaatakowały jamnika. Brutus nie żyje,...</td>\n",
       "      <td>To był spacer jak każdego innego dnia. Nagle ł...</td>\n",
       "      <td>coiber</td>\n",
       "      <td>631</td>\n",
       "      <td>{'hot': False, 'count': 101}</td>\n",
       "      <td>[lodz, psy, pies, psiarze, bekazpodludzi]</td>\n",
       "      <td>[]</td>\n",
       "      <td>30</td>\n",
       "    </tr>\n",
       "    <tr>\n",
       "      <th>2</th>\n",
       "      <td>7667729</td>\n",
       "      <td>Mocne oświadczenie PZN po aferze w skokach. Li...</td>\n",
       "      <td>Tymczasowe zawieszenie sztabu szkoleniowego i ...</td>\n",
       "      <td>Bobito</td>\n",
       "      <td>288</td>\n",
       "      <td>{'hot': False, 'count': 56}</td>\n",
       "      <td>[sport, skoki, skokinarciarskie, swiat]</td>\n",
       "      <td>[]</td>\n",
       "      <td>4</td>\n",
       "    </tr>\n",
       "    <tr>\n",
       "      <th>3</th>\n",
       "      <td>7798789</td>\n",
       "      <td>Jak ojciec Sebastiana M. stracił milion złotyc...</td>\n",
       "      <td>Właścicielem pojazdu był Jarosław M., ojciec S...</td>\n",
       "      <td>Kolekcjoner_dusz</td>\n",
       "      <td>707</td>\n",
       "      <td>{'hot': False, 'count': 207}</td>\n",
       "      <td>[sebastianmajtczak, majtczak, polskiedrogi, wy...</td>\n",
       "      <td>[]</td>\n",
       "      <td>4</td>\n",
       "    </tr>\n",
       "    <tr>\n",
       "      <th>4</th>\n",
       "      <td>7766029</td>\n",
       "      <td>zus anulował rente</td>\n",
       "      <td>mieszkanka Szczecina, miała 27 lat, gdy straci...</td>\n",
       "      <td>stefan_1971</td>\n",
       "      <td>458</td>\n",
       "      <td>{'hot': False, 'count': 123}</td>\n",
       "      <td>[zus, renta]</td>\n",
       "      <td>[]</td>\n",
       "      <td>10</td>\n",
       "    </tr>\n",
       "    <tr>\n",
       "      <th>...</th>\n",
       "      <td>...</td>\n",
       "      <td>...</td>\n",
       "      <td>...</td>\n",
       "      <td>...</td>\n",
       "      <td>...</td>\n",
       "      <td>...</td>\n",
       "      <td>...</td>\n",
       "      <td>...</td>\n",
       "      <td>...</td>\n",
       "    </tr>\n",
       "    <tr>\n",
       "      <th>9858</th>\n",
       "      <td>7733231</td>\n",
       "      <td>xcancel.com - przeglądaj twitty I odpowiedzi b...</td>\n",
       "      <td>W sumie trochę mnie dziwi, ze ta stronka nie j...</td>\n",
       "      <td>Returned</td>\n",
       "      <td>438</td>\n",
       "      <td>{'hot': False, 'count': 32}</td>\n",
       "      <td>[technologia, twitter, lifehack, internet]</td>\n",
       "      <td>[]</td>\n",
       "      <td>5</td>\n",
       "    </tr>\n",
       "    <tr>\n",
       "      <th>9859</th>\n",
       "      <td>7700465</td>\n",
       "      <td>Tani sposób Niemców na oczyszczanie wody. W Po...</td>\n",
       "      <td>Nowe badanie pokazuje, że mikroplastiki i toks...</td>\n",
       "      <td>Rasteris</td>\n",
       "      <td>427</td>\n",
       "      <td>{'hot': False, 'count': 53}</td>\n",
       "      <td>[woda, przyroda, nauka, technika, las]</td>\n",
       "      <td>[]</td>\n",
       "      <td>9</td>\n",
       "    </tr>\n",
       "    <tr>\n",
       "      <th>9860</th>\n",
       "      <td>7798775</td>\n",
       "      <td>Zabił rodzinę, uciekł ze szpitala. Dożywocia n...</td>\n",
       "      <td>Prokuratura żądała dożywocia, sąd się na to ni...</td>\n",
       "      <td>ZobaczLink</td>\n",
       "      <td>235</td>\n",
       "      <td>{'hot': False, 'count': 28}</td>\n",
       "      <td>[polska, prawo, sadowehistorie, kryminalne, mo...</td>\n",
       "      <td>[]</td>\n",
       "      <td>1</td>\n",
       "    </tr>\n",
       "    <tr>\n",
       "      <th>9861</th>\n",
       "      <td>7733241</td>\n",
       "      <td>Zabrali i umieścili w rodzinie zastępczej. Czt...</td>\n",
       "      <td>Policja odebrała i umieściła w rodzinie zastęp...</td>\n",
       "      <td>Kolekcjoner_dusz</td>\n",
       "      <td>543</td>\n",
       "      <td>{'hot': False, 'count': 185}</td>\n",
       "      <td>[warszawa, policja, afera]</td>\n",
       "      <td>[]</td>\n",
       "      <td>58</td>\n",
       "    </tr>\n",
       "    <tr>\n",
       "      <th>9862</th>\n",
       "      <td>7667707</td>\n",
       "      <td>Cła odwetowe UE wobec USA, m.in. na mięso, orz...</td>\n",
       "      <td>12 marca Komisja Europejska poinformowała o na...</td>\n",
       "      <td>p0391</td>\n",
       "      <td>360</td>\n",
       "      <td>{'hot': False, 'count': 204}</td>\n",
       "      <td>[ue, uniaeuropejska, europa, polska, usa, gosp...</td>\n",
       "      <td>[]</td>\n",
       "      <td>4</td>\n",
       "    </tr>\n",
       "  </tbody>\n",
       "</table>\n",
       "<p>9863 rows × 9 columns</p>\n",
       "</div>"
      ],
      "text/plain": [
       "           id                                              title  \\\n",
       "0     7766021  Pracujących Polaków nie stać nawet na metr mie...   \n",
       "1     7798801  Owczarki zaatakowały jamnika. Brutus nie żyje,...   \n",
       "2     7667729  Mocne oświadczenie PZN po aferze w skokach. Li...   \n",
       "3     7798789  Jak ojciec Sebastiana M. stracił milion złotyc...   \n",
       "4     7766029                                 zus anulował rente   \n",
       "...       ...                                                ...   \n",
       "9858  7733231  xcancel.com - przeglądaj twitty I odpowiedzi b...   \n",
       "9859  7700465  Tani sposób Niemców na oczyszczanie wody. W Po...   \n",
       "9860  7798775  Zabił rodzinę, uciekł ze szpitala. Dożywocia n...   \n",
       "9861  7733241  Zabrali i umieścili w rodzinie zastępczej. Czt...   \n",
       "9862  7667707  Cła odwetowe UE wobec USA, m.in. na mięso, orz...   \n",
       "\n",
       "                                            description            author  \\\n",
       "0     Polaków nie stać na zakup nawet 1 m kw. mieszk...         ross-flow   \n",
       "1     To był spacer jak każdego innego dnia. Nagle ł...            coiber   \n",
       "2     Tymczasowe zawieszenie sztabu szkoleniowego i ...            Bobito   \n",
       "3     Właścicielem pojazdu był Jarosław M., ojciec S...  Kolekcjoner_dusz   \n",
       "4     mieszkanka Szczecina, miała 27 lat, gdy straci...       stefan_1971   \n",
       "...                                                 ...               ...   \n",
       "9858  W sumie trochę mnie dziwi, ze ta stronka nie j...          Returned   \n",
       "9859  Nowe badanie pokazuje, że mikroplastiki i toks...          Rasteris   \n",
       "9860  Prokuratura żądała dożywocia, sąd się na to ni...        ZobaczLink   \n",
       "9861  Policja odebrała i umieściła w rodzinie zastęp...  Kolekcjoner_dusz   \n",
       "9862  12 marca Komisja Europejska poinformowała o na...             p0391   \n",
       "\n",
       "      votes                      comments  \\\n",
       "0       485  {'hot': False, 'count': 222}   \n",
       "1       631  {'hot': False, 'count': 101}   \n",
       "2       288   {'hot': False, 'count': 56}   \n",
       "3       707  {'hot': False, 'count': 207}   \n",
       "4       458  {'hot': False, 'count': 123}   \n",
       "...     ...                           ...   \n",
       "9858    438   {'hot': False, 'count': 32}   \n",
       "9859    427   {'hot': False, 'count': 53}   \n",
       "9860    235   {'hot': False, 'count': 28}   \n",
       "9861    543  {'hot': False, 'count': 185}   \n",
       "9862    360  {'hot': False, 'count': 204}   \n",
       "\n",
       "                                                   tags alerts  downvotes  \n",
       "0     [nieruchomosci, wynajem, rynekwtorny, mieszkania]     []         13  \n",
       "1             [lodz, psy, pies, psiarze, bekazpodludzi]     []         30  \n",
       "2               [sport, skoki, skokinarciarskie, swiat]     []          4  \n",
       "3     [sebastianmajtczak, majtczak, polskiedrogi, wy...     []          4  \n",
       "4                                          [zus, renta]     []         10  \n",
       "...                                                 ...    ...        ...  \n",
       "9858         [technologia, twitter, lifehack, internet]     []          5  \n",
       "9859             [woda, przyroda, nauka, technika, las]     []          9  \n",
       "9860  [polska, prawo, sadowehistorie, kryminalne, mo...     []          1  \n",
       "9861                         [warszawa, policja, afera]     []         58  \n",
       "9862  [ue, uniaeuropejska, europa, polska, usa, gosp...     []          4  \n",
       "\n",
       "[9863 rows x 9 columns]"
      ]
     },
     "execution_count": 111,
     "metadata": {},
     "output_type": "execute_result"
    }
   ],
   "source": [
    "df_homepage"
   ]
  },
  {
   "cell_type": "markdown",
   "id": "8bf89f8f",
   "metadata": {},
   "source": [
    "# Data from id scan"
   ]
  },
  {
   "cell_type": "code",
   "execution_count": 112,
   "id": "3cf33454",
   "metadata": {},
   "outputs": [],
   "source": [
    "link = '../data/final_combined_results_7631933-7651933.json'\n",
    "df_id = load_json_to_dataframe(link)"
   ]
  },
  {
   "cell_type": "code",
   "execution_count": 113,
   "id": "3b952f1d",
   "metadata": {},
   "outputs": [
    {
     "data": {
      "text/plain": [
       "Index(['id', 'url', 'title', 'points', 'description', 'added_date', 'tags',\n",
       "       'alerts', 'comments', 'status', 'proxy', 'error'],\n",
       "      dtype='object')"
      ]
     },
     "execution_count": 113,
     "metadata": {},
     "output_type": "execute_result"
    }
   ],
   "source": [
    "df_id.columns"
   ]
  },
  {
   "cell_type": "code",
   "execution_count": 114,
   "id": "a42d6053",
   "metadata": {},
   "outputs": [],
   "source": [
    "df_id = df_id[df_id['error'].isna()]"
   ]
  },
  {
   "cell_type": "code",
   "execution_count": 115,
   "id": "4449ef01",
   "metadata": {},
   "outputs": [],
   "source": [
    "df_id = df_id.drop(columns=['status', 'proxy', 'error']).reset_index(drop=True)"
   ]
  },
  {
   "cell_type": "code",
   "execution_count": 116,
   "id": "e0bdaadb",
   "metadata": {},
   "outputs": [
    {
     "name": "stdout",
     "output_type": "stream",
     "text": [
      "Count of alerts:  1153\n",
      "All alerts are either 'zakopane' or 'duplikat'\n"
     ]
    },
    {
     "name": "stderr",
     "output_type": "stream",
     "text": [
      "C:\\Users\\juziu\\AppData\\Local\\Temp\\ipykernel_23580\\3722623095.py:2: SettingWithCopyWarning: \n",
      "A value is trying to be set on a copy of a slice from a DataFrame.\n",
      "Try using .loc[row_indexer,col_indexer] = value instead\n",
      "\n",
      "See the caveats in the documentation: https://pandas.pydata.org/pandas-docs/stable/user_guide/indexing.html#returning-a-view-versus-a-copy\n",
      "  alerts_df_id['zakopane'] = alerts_df_id['alerts'].apply(lambda x: x['title'] == 'To Znalezisko zostało zakopane')\n",
      "C:\\Users\\juziu\\AppData\\Local\\Temp\\ipykernel_23580\\3722623095.py:3: SettingWithCopyWarning: \n",
      "A value is trying to be set on a copy of a slice from a DataFrame.\n",
      "Try using .loc[row_indexer,col_indexer] = value instead\n",
      "\n",
      "See the caveats in the documentation: https://pandas.pydata.org/pandas-docs/stable/user_guide/indexing.html#returning-a-view-versus-a-copy\n",
      "  alerts_df_id['duplikat'] = alerts_df_id['alerts'].apply(lambda x: (x['title'] == 'To Znalezisko zostało wyrzucone') and ('Duplikat' in x['body']))\n"
     ]
    }
   ],
   "source": [
    "alerts_df_id = df_id[df_id['alerts'].notna()]\n",
    "alerts_df_id['zakopane'] = alerts_df_id['alerts'].apply(lambda x: x['title'] == 'To Znalezisko zostało zakopane')\n",
    "alerts_df_id['duplikat'] = alerts_df_id['alerts'].apply(lambda x: (x['title'] == 'To Znalezisko zostało wyrzucone') and ('Duplikat' in x['body']))\n",
    "print(\"Count of alerts: \", len(alerts_df_id))\n",
    "\n",
    "# Check if all alerts are either 'zakopane' or 'duplikat'\n",
    "zakopane_duplikat = (alerts_df_id['zakopane'] | alerts_df_id['duplikat']).all()\n",
    "\n",
    "if zakopane_duplikat:\n",
    "    print(\"All alerts are either 'zakopane' or 'duplikat'\")\n",
    "    \n",
    "    # Remove the 'alerts' column as it is no longer needed\n",
    "    alerts_df_id = alerts_df_id.drop(columns=['alerts'])\n",
    "\n",
    "    # can remove duplicates now\n",
    "    alerts_df_id = alerts_df_id[~alerts_df_id['duplikat']].drop(columns=['duplikat'])"
   ]
  },
  {
   "cell_type": "markdown",
   "id": "2b895b34",
   "metadata": {},
   "source": [
    "## Get comments and see if they contain information about manipulation and check their points\n",
    "\n",
    "**NOTE**: this is still important to check because word 'manipulation' can also not address the original post"
   ]
  },
  {
   "cell_type": "code",
   "execution_count": 117,
   "id": "f42d8474",
   "metadata": {},
   "outputs": [],
   "source": [
    "# content: None means that there was some multimedia posted and no text\n",
    "df_id['comments_content_points'] = df_id['comments'].apply(lambda x: [(c['content'], c['points']) for c in x if c['content'] is not None])"
   ]
  },
  {
   "cell_type": "code",
   "execution_count": 118,
   "id": "e573d9b8",
   "metadata": {},
   "outputs": [],
   "source": [
    "import re\n",
    "pattern = re.compile(r'\\bmanipula\\w*\\b', flags=re.IGNORECASE)\n",
    "\n",
    "df_id['mentions_manipulation'] = df_id['comments_content_points'] \\\n",
    "    .apply(lambda list_c:\n",
    "        any(pattern.search(c[0]) for c in list_c if isinstance(c[0], str))\n",
    "    )"
   ]
  },
  {
   "cell_type": "code",
   "execution_count": 119,
   "id": "39079b5a",
   "metadata": {},
   "outputs": [],
   "source": [
    "df_id['top_manipulation_comment'] = df_id['comments_content_points'].apply(\n",
    "    lambda comments: max(\n",
    "        (c for c in comments if pattern.search(c[0])),\n",
    "        key=lambda c: c[1],\n",
    "        default=None\n",
    "    )\n",
    ")"
   ]
  },
  {
   "cell_type": "markdown",
   "id": "eb19f50f",
   "metadata": {},
   "source": [
    "## Is comment containing 'informacja nieprawdziwa' or 'nieprawdziwa informacja'"
   ]
  },
  {
   "cell_type": "code",
   "execution_count": 120,
   "id": "2fdb1baa",
   "metadata": {},
   "outputs": [],
   "source": [
    "df_id['comment_informacja_nieprawdziwa'] = df_id['comments_content_points'].apply(\n",
    "    lambda comments: max(\n",
    "        (c for c in comments if re.compile(r'informacja nieprawdziwa|nieprawdziwa informacja', re.IGNORECASE).search(c[0])),\n",
    "        key=lambda c: c[1],\n",
    "        default=None\n",
    "    )\n",
    ")"
   ]
  },
  {
   "cell_type": "code",
   "execution_count": 121,
   "id": "ad0b5d09",
   "metadata": {},
   "outputs": [
    {
     "data": {
      "text/plain": [
       "np.int64(53)"
      ]
     },
     "execution_count": 121,
     "metadata": {},
     "output_type": "execute_result"
    }
   ],
   "source": [
    "df_id['comment_informacja_nieprawdziwa'].notna().sum()"
   ]
  },
  {
   "cell_type": "code",
   "execution_count": 122,
   "id": "785c2329",
   "metadata": {},
   "outputs": [],
   "source": [
    "comment_informacja_nieprawdziwa_points = df_id[df_id['comment_informacja_nieprawdziwa'].notna()]['comment_informacja_nieprawdziwa'].apply(lambda x: x[1])\\\n",
    "      / df_id[df_id['comment_informacja_nieprawdziwa'].notna()]['points'].abs()\n",
    "\n",
    "df_id.loc[comment_informacja_nieprawdziwa_points.index, 'score_informacja_nieprawdziwa'] = comment_informacja_nieprawdziwa_points"
   ]
  },
  {
   "cell_type": "markdown",
   "id": "269a7ff7",
   "metadata": {},
   "source": [
    "### Method involves label smoothing - model will not generalize well possibly"
   ]
  },
  {
   "cell_type": "code",
   "execution_count": 123,
   "id": "6d59eeb9",
   "metadata": {},
   "outputs": [],
   "source": [
    "df_id.loc[alerts_df_id.index, 'score_zakopane_fuzzy'] = np.clip(\n",
    "    np.random.normal(loc=0.7, scale=0.05, size=len(alerts_df_id.index)),\n",
    "    0, 1\n",
    ")\n",
    "\n",
    "df_id.loc[alerts_df_id.index, 'score_zakopane'] = 0.7"
   ]
  },
  {
   "cell_type": "code",
   "execution_count": 124,
   "id": "88eb0105",
   "metadata": {},
   "outputs": [],
   "source": [
    "df_id['scores_fuzzy'] = df_id[['score_informacja_nieprawdziwa', 'score_zakopane_fuzzy']].sum(axis=1, skipna=True).fillna(0)\n",
    "df_id['scores'] = df_id[['score_informacja_nieprawdziwa', 'score_zakopane']].sum(axis=1, skipna=True).fillna(0)"
   ]
  },
  {
   "cell_type": "code",
   "execution_count": 125,
   "id": "d1a4595f",
   "metadata": {},
   "outputs": [],
   "source": [
    "# only for the fuzzy values\n",
    "df_id.loc[df_id[df_id['scores_fuzzy'] == 0].index, 'scores_fuzzy'] = np.clip(\n",
    "    np.random.normal(loc=0, scale=0.05, size=len(df_id[df_id['scores_fuzzy'] == 0].index)),\n",
    "    0, 1\n",
    ")"
   ]
  },
  {
   "cell_type": "code",
   "execution_count": 126,
   "id": "7ef3a515",
   "metadata": {},
   "outputs": [],
   "source": [
    "df_id = df_id.rename(columns={'points': 'votes'})"
   ]
  },
  {
   "cell_type": "markdown",
   "id": "3547c911",
   "metadata": {},
   "source": [
    "# Data from Misinformation archive\n",
    "https://wykoppl-informacjanieprawdziwa.surge.sh/"
   ]
  },
  {
   "cell_type": "code",
   "execution_count": 127,
   "id": "aea228aa",
   "metadata": {},
   "outputs": [],
   "source": [
    "df_misinfo = load_json_to_dataframe('../data/mssinfo_wykop_posts.json')"
   ]
  },
  {
   "cell_type": "code",
   "execution_count": 128,
   "id": "9bd956b0",
   "metadata": {},
   "outputs": [],
   "source": [
    "df_misinfo['scores'] = 1\n",
    "\n",
    "df_misinfo['scores_fuzzy'] = np.clip(\n",
    "    np.random.normal(loc=1, scale=0.05, size=len(df_misinfo.index)),\n",
    "    0, 1\n",
    ")"
   ]
  },
  {
   "cell_type": "markdown",
   "id": "b95e2c7e",
   "metadata": {},
   "source": [
    "# Analysis\n",
    "\n",
    "Data From ID scan: `df`  \n",
    "Data from homepage: `df_homepage`  \n",
    "Data from misinfo list: `df_misinfo`"
   ]
  },
  {
   "cell_type": "code",
   "execution_count": 129,
   "id": "2bd2c4d5",
   "metadata": {},
   "outputs": [
    {
     "data": {
      "text/plain": [
       "Index(['id', 'title', 'description', 'author', 'votes', 'comments', 'tags',\n",
       "       'alerts', 'downvotes'],\n",
       "      dtype='object')"
      ]
     },
     "execution_count": 129,
     "metadata": {},
     "output_type": "execute_result"
    }
   ],
   "source": [
    "df_homepage.columns"
   ]
  },
  {
   "cell_type": "markdown",
   "id": "50034c5a",
   "metadata": {},
   "source": [
    "For now, `df_homepage` is not yet to be joined because the comments are not fetched"
   ]
  },
  {
   "cell_type": "code",
   "execution_count": 130,
   "id": "cc81554a",
   "metadata": {},
   "outputs": [
    {
     "data": {
      "text/plain": [
       "Index(['id', 'url', 'title', 'votes', 'description', 'added_date', 'tags',\n",
       "       'alerts', 'comments', 'comments_content_points',\n",
       "       'mentions_manipulation', 'top_manipulation_comment',\n",
       "       'comment_informacja_nieprawdziwa', 'score_informacja_nieprawdziwa',\n",
       "       'score_zakopane_fuzzy', 'score_zakopane', 'scores_fuzzy', 'scores'],\n",
       "      dtype='object')"
      ]
     },
     "execution_count": 130,
     "metadata": {},
     "output_type": "execute_result"
    }
   ],
   "source": [
    "df_id.columns"
   ]
  },
  {
   "cell_type": "code",
   "execution_count": 131,
   "id": "ba8c8346",
   "metadata": {},
   "outputs": [
    {
     "data": {
      "text/plain": [
       "Index(['id', 'url', 'title', 'description', 'added_date', 'author', 'tags',\n",
       "       'alerts', 'votes', 'downvotes', 'scores', 'scores_fuzzy'],\n",
       "      dtype='object')"
      ]
     },
     "execution_count": 131,
     "metadata": {},
     "output_type": "execute_result"
    }
   ],
   "source": [
    "df_misinfo.columns"
   ]
  },
  {
   "cell_type": "code",
   "execution_count": 132,
   "id": "d811ea77",
   "metadata": {},
   "outputs": [],
   "source": [
    "df_id_ready = df_id.drop(columns=[\n",
    "    'id', 'url', 'added_date', 'alerts', 'comments', 'comments_content_points', \n",
    "    'mentions_manipulation', 'top_manipulation_comment', 'comment_informacja_nieprawdziwa',\n",
    "    'score_informacja_nieprawdziwa', 'score_zakopane'\n",
    "    ]\n",
    ")"
   ]
  },
  {
   "cell_type": "code",
   "execution_count": 133,
   "id": "35537d82",
   "metadata": {},
   "outputs": [
    {
     "data": {
      "text/html": [
       "<div>\n",
       "<style scoped>\n",
       "    .dataframe tbody tr th:only-of-type {\n",
       "        vertical-align: middle;\n",
       "    }\n",
       "\n",
       "    .dataframe tbody tr th {\n",
       "        vertical-align: top;\n",
       "    }\n",
       "\n",
       "    .dataframe thead th {\n",
       "        text-align: right;\n",
       "    }\n",
       "</style>\n",
       "<table border=\"1\" class=\"dataframe\">\n",
       "  <thead>\n",
       "    <tr style=\"text-align: right;\">\n",
       "      <th></th>\n",
       "      <th>title</th>\n",
       "      <th>votes</th>\n",
       "      <th>description</th>\n",
       "      <th>tags</th>\n",
       "      <th>score_zakopane_fuzzy</th>\n",
       "      <th>scores_fuzzy</th>\n",
       "      <th>scores</th>\n",
       "    </tr>\n",
       "  </thead>\n",
       "  <tbody>\n",
       "    <tr>\n",
       "      <th>0</th>\n",
       "      <td>Rządy PiS bez cenzury</td>\n",
       "      <td>2.0</td>\n",
       "      <td>Złoty interes</td>\n",
       "      <td>[polityka, biznes, bekazpisu]</td>\n",
       "      <td>NaN</td>\n",
       "      <td>0.012808</td>\n",
       "      <td>0.0</td>\n",
       "    </tr>\n",
       "    <tr>\n",
       "      <th>1</th>\n",
       "      <td>Elon Musk robi Hitlera na wiecu prezydenckim</td>\n",
       "      <td>5.0</td>\n",
       "      <td>Nasi dziadkowie przewracają się w grobach.</td>\n",
       "      <td>[elon, musk, wiec, hitler]</td>\n",
       "      <td>0.692983</td>\n",
       "      <td>0.692983</td>\n",
       "      <td>0.7</td>\n",
       "    </tr>\n",
       "    <tr>\n",
       "      <th>2</th>\n",
       "      <td>K. Nawrocki przez pół roku mieszkał w apartame...</td>\n",
       "      <td>828.0</td>\n",
       "      <td>Karol Nawrocki jako dyrektor Muzeum II Wojny Ś...</td>\n",
       "      <td>[polityka, wybory, sejm, pis]</td>\n",
       "      <td>NaN</td>\n",
       "      <td>0.000000</td>\n",
       "      <td>0.0</td>\n",
       "    </tr>\n",
       "    <tr>\n",
       "      <th>3</th>\n",
       "      <td>Elon Musk chce kupić Intela</td>\n",
       "      <td>12.0</td>\n",
       "      <td>Nieoczekiwany zwrot u Intela. Okazuje się, że ...</td>\n",
       "      <td>[elonmusk, intel, technologia]</td>\n",
       "      <td>NaN</td>\n",
       "      <td>0.009849</td>\n",
       "      <td>0.0</td>\n",
       "    </tr>\n",
       "    <tr>\n",
       "      <th>4</th>\n",
       "      <td>Pierwsze decyzje Donalda Trumpa.</td>\n",
       "      <td>3.0</td>\n",
       "      <td>Pierwsze decyzje Donalda Trumpa.</td>\n",
       "      <td>[ekonomia, usa, trump, wydarzeniaswiatedek, sw...</td>\n",
       "      <td>NaN</td>\n",
       "      <td>0.004501</td>\n",
       "      <td>0.0</td>\n",
       "    </tr>\n",
       "  </tbody>\n",
       "</table>\n",
       "</div>"
      ],
      "text/plain": [
       "                                               title  votes  \\\n",
       "0                              Rządy PiS bez cenzury    2.0   \n",
       "1       Elon Musk robi Hitlera na wiecu prezydenckim    5.0   \n",
       "2  K. Nawrocki przez pół roku mieszkał w apartame...  828.0   \n",
       "3                        Elon Musk chce kupić Intela   12.0   \n",
       "4                   Pierwsze decyzje Donalda Trumpa.    3.0   \n",
       "\n",
       "                                         description  \\\n",
       "0                                      Złoty interes   \n",
       "1         Nasi dziadkowie przewracają się w grobach.   \n",
       "2  Karol Nawrocki jako dyrektor Muzeum II Wojny Ś...   \n",
       "3  Nieoczekiwany zwrot u Intela. Okazuje się, że ...   \n",
       "4                   Pierwsze decyzje Donalda Trumpa.   \n",
       "\n",
       "                                                tags  score_zakopane_fuzzy  \\\n",
       "0                      [polityka, biznes, bekazpisu]                   NaN   \n",
       "1                         [elon, musk, wiec, hitler]              0.692983   \n",
       "2                      [polityka, wybory, sejm, pis]                   NaN   \n",
       "3                     [elonmusk, intel, technologia]                   NaN   \n",
       "4  [ekonomia, usa, trump, wydarzeniaswiatedek, sw...                   NaN   \n",
       "\n",
       "   scores_fuzzy  scores  \n",
       "0      0.012808     0.0  \n",
       "1      0.692983     0.7  \n",
       "2      0.000000     0.0  \n",
       "3      0.009849     0.0  \n",
       "4      0.004501     0.0  "
      ]
     },
     "execution_count": 133,
     "metadata": {},
     "output_type": "execute_result"
    }
   ],
   "source": [
    "df_id_ready.head()"
   ]
  },
  {
   "cell_type": "code",
   "execution_count": 134,
   "id": "ab0eed97",
   "metadata": {},
   "outputs": [],
   "source": [
    "df_misinfo_ready = df_misinfo.drop(columns=[\n",
    "    'id', 'url', 'added_date', 'author', 'alerts', 'downvotes'\n",
    "    ]\n",
    ")"
   ]
  },
  {
   "cell_type": "code",
   "execution_count": 135,
   "id": "9feccce0",
   "metadata": {},
   "outputs": [
    {
     "data": {
      "text/html": [
       "<div>\n",
       "<style scoped>\n",
       "    .dataframe tbody tr th:only-of-type {\n",
       "        vertical-align: middle;\n",
       "    }\n",
       "\n",
       "    .dataframe tbody tr th {\n",
       "        vertical-align: top;\n",
       "    }\n",
       "\n",
       "    .dataframe thead th {\n",
       "        text-align: right;\n",
       "    }\n",
       "</style>\n",
       "<table border=\"1\" class=\"dataframe\">\n",
       "  <thead>\n",
       "    <tr style=\"text-align: right;\">\n",
       "      <th></th>\n",
       "      <th>title</th>\n",
       "      <th>description</th>\n",
       "      <th>tags</th>\n",
       "      <th>votes</th>\n",
       "      <th>scores</th>\n",
       "      <th>scores_fuzzy</th>\n",
       "    </tr>\n",
       "  </thead>\n",
       "  <tbody>\n",
       "    <tr>\n",
       "      <th>0</th>\n",
       "      <td>We Francji spokojnie. W sylwestra spalono tylk...</td>\n",
       "      <td>W noc sylwestrową we Francji spalono \"tylko\" 9...</td>\n",
       "      <td>[europa, swiat, imigranci, ciekawostki, francja]</td>\n",
       "      <td>2305</td>\n",
       "      <td>1</td>\n",
       "      <td>1.000000</td>\n",
       "    </tr>\n",
       "    <tr>\n",
       "      <th>1</th>\n",
       "      <td>[Afera Prezydencka] Moderator fDy</td>\n",
       "      <td>A gdyby tak większa ilość użytkowników #wykop ...</td>\n",
       "      <td>[wykop, afera, aferaprezydecka, lechwalesacont...</td>\n",
       "      <td>428</td>\n",
       "      <td>1</td>\n",
       "      <td>1.000000</td>\n",
       "    </tr>\n",
       "    <tr>\n",
       "      <th>2</th>\n",
       "      <td>Szczera wypowiedź Tomasza Lisa</td>\n",
       "      <td>pan redaktor w końcu powiedział co tak naprawd...</td>\n",
       "      <td>[polityka, heheszki, lisnadzis, kod, media]</td>\n",
       "      <td>1357</td>\n",
       "      <td>1</td>\n",
       "      <td>0.974347</td>\n",
       "    </tr>\n",
       "    <tr>\n",
       "      <th>3</th>\n",
       "      <td>Inwazja zombie-islamu na Europę stała się fakt...</td>\n",
       "      <td>Zobaczcie jak przybysze bawią się z Niemką w c...</td>\n",
       "      <td>[europa, islam, imigranci, kolonia, uchodzcy, ...</td>\n",
       "      <td>145</td>\n",
       "      <td>1</td>\n",
       "      <td>0.946137</td>\n",
       "    </tr>\n",
       "    <tr>\n",
       "      <th>4</th>\n",
       "      <td>Czy tak wyglądały ataki w Koloni  w Nowy Rok?</td>\n",
       "      <td>Podejrzewam że to dopiero początek wrzut tego ...</td>\n",
       "      <td>[europa, imigranci, islam]</td>\n",
       "      <td>33</td>\n",
       "      <td>1</td>\n",
       "      <td>1.000000</td>\n",
       "    </tr>\n",
       "  </tbody>\n",
       "</table>\n",
       "</div>"
      ],
      "text/plain": [
       "                                               title  \\\n",
       "0  We Francji spokojnie. W sylwestra spalono tylk...   \n",
       "1                  [Afera Prezydencka] Moderator fDy   \n",
       "2                     Szczera wypowiedź Tomasza Lisa   \n",
       "3  Inwazja zombie-islamu na Europę stała się fakt...   \n",
       "4      Czy tak wyglądały ataki w Koloni  w Nowy Rok?   \n",
       "\n",
       "                                         description  \\\n",
       "0  W noc sylwestrową we Francji spalono \"tylko\" 9...   \n",
       "1  A gdyby tak większa ilość użytkowników #wykop ...   \n",
       "2  pan redaktor w końcu powiedział co tak naprawd...   \n",
       "3  Zobaczcie jak przybysze bawią się z Niemką w c...   \n",
       "4  Podejrzewam że to dopiero początek wrzut tego ...   \n",
       "\n",
       "                                                tags  votes  scores  \\\n",
       "0   [europa, swiat, imigranci, ciekawostki, francja]   2305       1   \n",
       "1  [wykop, afera, aferaprezydecka, lechwalesacont...    428       1   \n",
       "2        [polityka, heheszki, lisnadzis, kod, media]   1357       1   \n",
       "3  [europa, islam, imigranci, kolonia, uchodzcy, ...    145       1   \n",
       "4                         [europa, imigranci, islam]     33       1   \n",
       "\n",
       "   scores_fuzzy  \n",
       "0      1.000000  \n",
       "1      1.000000  \n",
       "2      0.974347  \n",
       "3      0.946137  \n",
       "4      1.000000  "
      ]
     },
     "execution_count": 135,
     "metadata": {},
     "output_type": "execute_result"
    }
   ],
   "source": [
    "df_misinfo_ready.head()"
   ]
  },
  {
   "cell_type": "code",
   "execution_count": 136,
   "id": "ac63ec83",
   "metadata": {},
   "outputs": [],
   "source": [
    "df = pd.concat([df_misinfo_ready, df_id_ready], ignore_index=True)"
   ]
  },
  {
   "cell_type": "code",
   "execution_count": 137,
   "id": "1e21d8be",
   "metadata": {},
   "outputs": [],
   "source": [
    "df['scores'] = df['scores'].apply(lambda x: min(1, max(0, x)))\n",
    "df['scores_fuzzy'] = df['scores_fuzzy'].apply(lambda x: min(1, max(0, x)))"
   ]
  },
  {
   "cell_type": "code",
   "execution_count": 138,
   "id": "ba8cf988",
   "metadata": {},
   "outputs": [
    {
     "data": {
      "text/plain": [
       "<Axes: ylabel='Frequency'>"
      ]
     },
     "execution_count": 138,
     "metadata": {},
     "output_type": "execute_result"
    },
    {
     "data": {
      "image/png": "[encoded data removed]",
      "text/plain": [
       "<Figure size 640x480 with 1 Axes>"
      ]
     },
     "metadata": {},
     "output_type": "display_data"
    }
   ],
   "source": [
    "df['scores'].sort_values().plot(kind='hist', bins=20)"
   ]
  },
  {
   "cell_type": "code",
   "execution_count": 139,
   "id": "5693a8ac",
   "metadata": {},
   "outputs": [
    {
     "data": {
      "text/plain": [
       "<Axes: ylabel='Frequency'>"
      ]
     },
     "execution_count": 139,
     "metadata": {},
     "output_type": "execute_result"
    },
    {
     "data": {
      "image/png": "[encoded data removed]",
      "text/plain": [
       "<Figure size 640x480 with 1 Axes>"
      ]
     },
     "metadata": {},
     "output_type": "display_data"
    }
   ],
   "source": [
    "df['scores_fuzzy'].sort_values().plot(kind='hist', bins=20)"
   ]
  },
  {
   "cell_type": "markdown",
   "id": "157497d4",
   "metadata": {},
   "source": [
    "# Preparing the data"
   ]
  },
  {
   "cell_type": "code",
   "execution_count": 140,
   "id": "52db52b1",
   "metadata": {},
   "outputs": [],
   "source": [
    "df[\"text\"] = (\n",
    "    df[\"title\"].fillna('') + \" \" +\n",
    "    df[\"description\"].fillna('') + \" \" +\n",
    "    df[\"tags\"].apply(lambda x: \" \".join(x) if isinstance(x, list) else x)\n",
    ")\n",
    "\n",
    "# Alternative way - exclude the tags, they might be too much of an outlier\n",
    "df['clean_text_no_tags'] = (\n",
    "    df[\"title\"].fillna('') + \" \" +\n",
    "    df[\"description\"].fillna('')\n",
    ")"
   ]
  },
  {
   "cell_type": "code",
   "execution_count": 141,
   "id": "2f3b277b",
   "metadata": {},
   "outputs": [],
   "source": [
    "def clean_text(t):\n",
    "    def _normalize_polish_characters(text):\n",
    "        mapping = {\n",
    "            \"ą\": \"a\", \"ć\": \"c\", \"ę\": \"e\", \"ł\": \"l\",\n",
    "            \"ń\": \"n\", \"ó\": \"o\", \"ś\": \"s\", \"ź\": \"z\", \"ż\": \"z\",\n",
    "            \"Ą\": \"A\", \"Ć\": \"C\", \"Ę\": \"E\", \"Ł\": \"L\",\n",
    "            \"Ń\": \"N\", \"Ó\": \"O\", \"Ś\": \"S\", \"Ź\": \"Z\", \"Ż\": \"Z\"\n",
    "        }\n",
    "        for k, v in mapping.items():\n",
    "            text = text.replace(k, v)\n",
    "        return text\n",
    "    t = t.lower()\n",
    "    t = _normalize_polish_characters(t)\n",
    "    t = re.sub(r\"http\\S+\", \"\", t)\n",
    "    t = re.sub(r\"[^a-z0-9\\s]\", \"\", t)\n",
    "    return t.strip()\n",
    "\n",
    "df[\"clean_text\"] = df[\"text\"].apply(clean_text)"
   ]
  },
  {
   "cell_type": "code",
   "execution_count": 142,
   "id": "a399cea8",
   "metadata": {},
   "outputs": [
    {
     "data": {
      "text/plain": [
       "0    we francji spokojnie w sylwestra spalono tylko...\n",
       "1    afera prezydencka moderator fdy a gdyby tak wi...\n",
       "2    szczera wypowiedz tomasza lisa pan redaktor w ...\n",
       "3    inwazja zombieislamu na europe stala sie fakte...\n",
       "4    czy tak wygladaly ataki w koloni  w nowy rok p...\n",
       "Name: clean_text, dtype: object"
      ]
     },
     "execution_count": 142,
     "metadata": {},
     "output_type": "execute_result"
    }
   ],
   "source": [
    "df['clean_text'].head()"
   ]
  },
  {
   "cell_type": "markdown",
   "id": "72f411e8",
   "metadata": {},
   "source": [
    "# Initial model"
   ]
  },
  {
   "cell_type": "code",
   "execution_count": 143,
   "id": "68881dca",
   "metadata": {},
   "outputs": [
    {
     "name": "stdout",
     "output_type": "stream",
     "text": [
      "MAE: 0.2337652476464169\n",
      "R²: 0.49724698300236236\n"
     ]
    }
   ],
   "source": [
    "from sklearn.model_selection import train_test_split\n",
    "from sklearn.feature_extraction.text import TfidfVectorizer\n",
    "from sklearn.linear_model import Ridge\n",
    "from sklearn.metrics import mean_absolute_error, r2_score\n",
    "\n",
    "X_train, X_test, y_train, y_test = train_test_split(df[\"clean_text\"], df[\"scores\"], test_size=0.2, random_state=42)\n",
    "\n",
    "vectorizer = TfidfVectorizer(\n",
    "    max_features=10000,\n",
    "    ngram_range=(1,2),\n",
    "    min_df=2\n",
    ")\n",
    "\n",
    "X_train_tfidf = vectorizer.fit_transform(X_train)\n",
    "X_test_tfidf = vectorizer.transform(X_test)\n",
    "\n",
    "model = Ridge(alpha=1.0)\n",
    "model.fit(X_train_tfidf, y_train)\n",
    "\n",
    "y_pred = model.predict(X_test_tfidf)\n",
    "\n",
    "print(\"MAE:\", mean_absolute_error(y_test, y_pred))\n",
    "print(\"R²:\", r2_score(y_test, y_pred))"
   ]
  },
  {
   "cell_type": "code",
   "execution_count": 144,
   "id": "84ba736f",
   "metadata": {},
   "outputs": [
    {
     "name": "stdout",
     "output_type": "stream",
     "text": [
      "0.6071713596178773 1.0 uk obniza vat z 20 do 5 na wszystkie produkty w sklepach  taka pomoc dla obywateli na 6mcy europa uk vat ekonomia polityka\n",
      "0.05410876030552603 0.0 rok jedzenia chicken sandwich w popeyes za darmo kolejnym otwarciom nowych lokali popeyes w polsce towarzyszy promocja w ktorej na klientow czeka az rok darmowego jedze popeyes promocja darmo kurczak\n",
      "0.4725784451814161 1.0 to tylko jakis patent   patent z 2015 roku teoriespiskowe patent covid19\n",
      "0.06321447168304364 0.0 microsoft account od lutego duza zmiana w logowaniu sie do konta od lutego jesli zalogujesz sie uzytkownicy beda automatycznie zalogowani caly czas istnieje nowa globalna opcja wylogowania wyloguj sie wszedzie moze to potrwac do 24 godzin zanim microsoft wyloguje uzytkownika ze wszystkich urzadzen chyba ich troche ponioslo microsoft windows cyberbezpieczenstwo security cybersecurity komputery\n",
      "0.321180628316601 0.0 rzad w uk domaga sie dostepu do szyfrowanych danych uzytkownikow apple eng brytyjski the home office wystawil zawiadomienie do apple o to aby firma stworzyla backdoor dajacy dostep do szyfrowanych danych uzytkownikow na mocy ich investigatory powers act dopiero co ue chciala likwidowac szyfrowanie ssl 1984 puka do drzwi technologia bezpieczenstwo polityka swiat gruparatowaniapoziomu\n",
      "0.27647230741151596 0.0 przerazajacy ludzie z hells angels ktorzy rzadza za kratami dzis opowiemy o niesamowitej historii w ktorej czlonkowie hells angels przejeli kontrole nad wiezieniem zmieniajac je w swoje wlasne krolestwo jak to mozliwe ze w tak zamknietym srodowisku byli w stanie narzucic swoje prawa i rzadzic za kratami wiezienie prawo wyrok gang klub kryminalne\n",
      "0.10313847542832151 0.0 pfas wieczne chemikalia w naszym srodowisku prof stanislaw gawronski opowiada o wiecznych chemikaliach to jedna z grup trwalych zwiazkow zanieczyszczajacych srodowisko inna w zachowaniu anizeli pozostale w srodowisku zwiazki te nie tkwia zatrzymane wrecz odwrotnie bardzo latwo sie przemieszczaja bo prawie nie ulegaja rozkladowi chemia nauka swiatnauki biologia zdrowie dieta\n",
      "0.06471790815824655 0.0 tesla byd saic geely pozywaja unie europejska chodzi o cla na elektryki z chin wspomniane w tytule firmy zdecydowaly sie zaskarzyc decyzje unii europejskiej dotyczaca nalozenia cel na samochody elektryczne produkowane na terenie panstwa srodka dodatkowe taryfy przywozowe obowiazuja od konca pazdziernika 2024 roku dotycza wszystkich aut wyjez uniaeuropejska clazaporowenaelektryki teslaswietegoelonamuska elektromobilnosczdodacjami superhiperautkaelektrycznetakiezehohohohohohohhoo chinskieautaevsuperdoplaty\n",
      "0.14724886708408322 0.7 toaleta za 650 tys zl to nie wszystko 650 tysiecy zlotych tyle warszawa zaplacila za miejska toalete w parku skaryszewskim warszawa\n",
      "0.08805832744089385 0.0 asystent medyczny zawod ktory staje sie fundamentem wspolczesnej ochrony zdrowiawyzsza szkola bezpieczenstwa wydzial w gdansku asystent medyczny studia gdanskw dynamicznie rozwijajacym sie sektorze ochrony zdrowia rosnie zapotrzebowanie na profesjonalistow ktorzy wspieraja personel medyczny i dbaja o  praca medycyna studia2025 asystentmedyczny\n"
     ]
    }
   ],
   "source": [
    "for pr, ts, x_ts, _ in zip(y_pred, y_test, X_test, range(10)):\n",
    "    print(pr, ts, x_ts)"
   ]
  },
  {
   "cell_type": "markdown",
   "id": "ab1f7bed",
   "metadata": {},
   "source": [
    "## Change problem to classification"
   ]
  },
  {
   "cell_type": "code",
   "execution_count": 145,
   "id": "a61f1125",
   "metadata": {},
   "outputs": [
    {
     "data": {
      "text/plain": [
       "label\n",
       "0    0.710119\n",
       "2    0.235104\n",
       "1    0.054777\n",
       "Name: proportion, dtype: float64"
      ]
     },
     "execution_count": 145,
     "metadata": {},
     "output_type": "execute_result"
    }
   ],
   "source": [
    "df[\"label\"] = df[\"scores\"].apply(lambda x: 0 if x < 0.35 else (2 if x > 0.85 else 1))\n",
    "\n",
    "df[\"label\"].value_counts(normalize=True)"
   ]
  },
  {
   "cell_type": "code",
   "execution_count": 146,
   "id": "ed1410d7",
   "metadata": {},
   "outputs": [],
   "source": [
    "df = df[~df['clean_text'].duplicated()].reset_index(drop=True)"
   ]
  },
  {
   "cell_type": "code",
   "execution_count": 147,
   "id": "3e78a442",
   "metadata": {},
   "outputs": [
    {
     "name": "stdout",
     "output_type": "stream",
     "text": [
      "              precision    recall  f1-score   support\n",
      "\n",
      "           0      0.906     0.848     0.876      1714\n",
      "           1      0.239     0.371     0.291       132\n",
      "           2      0.783     0.835     0.808       552\n",
      "\n",
      "    accuracy                          0.819      2398\n",
      "   macro avg      0.643     0.685     0.658      2398\n",
      "weighted avg      0.841     0.819     0.828      2398\n",
      "\n"
     ]
    },
    {
     "data": {
      "image/png": "[encoded data removed]",
      "text/plain": [
       "<Figure size 640x480 with 2 Axes>"
      ]
     },
     "metadata": {},
     "output_type": "display_data"
    }
   ],
   "source": [
    "from sklearn.linear_model import LogisticRegression\n",
    "from sklearn.model_selection import train_test_split\n",
    "from sklearn.feature_extraction.text import TfidfVectorizer\n",
    "from sklearn.pipeline import Pipeline\n",
    "from sklearn.metrics import classification_report, confusion_matrix\n",
    "import seaborn as sns\n",
    "import matplotlib.pyplot as plt\n",
    "\n",
    "def train_tfidf_logistic_regression_model(df, x_column: str, y_column: str):\n",
    "    X_train, X_test, y_train, y_test = train_test_split(\n",
    "        df[x_column], df[y_column], test_size=0.2, random_state=42, stratify=df[\"label\"]\n",
    "    )\n",
    "\n",
    "\n",
    "    model = Pipeline([\n",
    "        (\"tfidf\", TfidfVectorizer(max_features=10000, ngram_range=(1,2), min_df=2)),\n",
    "        (\"clf\", LogisticRegression(max_iter=1000, class_weight='balanced'))\n",
    "    ])\n",
    "\n",
    "    model.fit(X_train, y_train)\n",
    "\n",
    "    y_pred = model.predict(X_test)\n",
    "\n",
    "    print(classification_report(y_test, y_pred, digits=3))\n",
    "\n",
    "    cm = confusion_matrix(y_test, y_pred)\n",
    "    sns.heatmap(cm, annot=True, fmt='d', cmap='Blues')\n",
    "    plt.xlabel(\"Prediction\")\n",
    "    plt.ylabel(\"Real\")\n",
    "    plt.title(\"Confusion Matrix\")\n",
    "    plt.show()\n",
    "    \n",
    "    return model\n",
    "\n",
    "model = train_tfidf_logistic_regression_model(df, x_column=\"clean_text\", y_column=\"label\")"
   ]
  },
  {
   "cell_type": "markdown",
   "id": "360fcacd",
   "metadata": {},
   "source": [
    "### Class balancing"
   ]
  },
  {
   "cell_type": "code",
   "execution_count": 148,
   "id": "5e133303",
   "metadata": {},
   "outputs": [
    {
     "data": {
      "text/plain": [
       "label\n",
       "0     1.000000\n",
       "2     3.104710\n",
       "1    12.963691\n",
       "Name: count, dtype: float64"
      ]
     },
     "execution_count": 148,
     "metadata": {},
     "output_type": "execute_result"
    }
   ],
   "source": [
    "df['label'].value_counts()[0] / df['label'].value_counts()"
   ]
  },
  {
   "cell_type": "code",
   "execution_count": 149,
   "id": "1468a0b5",
   "metadata": {},
   "outputs": [
    {
     "name": "stdout",
     "output_type": "stream",
     "text": [
      "              precision    recall  f1-score   support\n",
      "\n",
      "           0      0.935     0.850     0.890      1714\n",
      "           1      0.922     0.996     0.958      1714\n",
      "           2      0.929     0.938     0.933      1714\n",
      "\n",
      "    accuracy                          0.928      5142\n",
      "   macro avg      0.928     0.928     0.927      5142\n",
      "weighted avg      0.928     0.928     0.927      5142\n",
      "\n"
     ]
    },
    {
     "data": {
      "image/png": "[encoded data removed]",
      "text/plain": [
       "<Figure size 640x480 with 2 Axes>"
      ]
     },
     "metadata": {},
     "output_type": "display_data"
    }
   ],
   "source": [
    "from sklearn.utils import resample\n",
    "\n",
    "majority = df[df.label == 0]\n",
    "minority1 = df[df.label == 1]\n",
    "minority2 = df[df.label == 2]\n",
    "\n",
    "minority1_upsampled = resample(minority1, replace=True, n_samples=len(majority), random_state=42)\n",
    "minority2_upsampled = resample(minority2, replace=True, n_samples=len(majority), random_state=42)\n",
    "\n",
    "df_balanced = pd.concat([majority, minority1_upsampled, minority2_upsampled])\n",
    "\n",
    "# Retraining\n",
    "model = train_tfidf_logistic_regression_model(df_balanced, x_column=\"clean_text\", y_column=\"label\")"
   ]
  },
  {
   "cell_type": "code",
   "execution_count": 150,
   "id": "c1a8bd55",
   "metadata": {},
   "outputs": [
    {
     "name": "stdout",
     "output_type": "stream",
     "text": [
      "\n",
      "\n",
      "=== Class: 0 (index 0) ===\n",
      "\n",
      "Top 5 features for class 0:\n",
      "nieruchomosci (3.1310)\n",
      "2024 (2.5676)\n",
      "polityka (2.2272)\n",
      "historia (2.2202)\n",
      "wypadek (2.1701)\n",
      "\n",
      "Top 5 features against class 0:\n",
      "swiat (-4.6907)\n",
      "koronawirus (-4.3846)\n",
      "wykop (-4.2594)\n",
      "szczepienia (-2.9534)\n",
      "covid19 (-2.9006)\n",
      "\n",
      "Top 5 the most discrimative features 0:\n",
      "nieruchomosci (diff=4.1523, coef=3.1310)\n",
      "2024 (diff=3.1757, coef=2.5676)\n",
      "wypadek (diff=3.0509, coef=2.1701)\n",
      "gry (diff=3.0407, coef=2.1096)\n",
      "inwestycje (diff=2.7482, coef=1.9798)\n",
      "\n",
      "\n",
      "=== Class: 1 (index 1) ===\n",
      "\n",
      "Top 5 features for class 1:\n",
      "wosp (2.9898)\n",
      "pomoc (2.3460)\n",
      "wynajem (2.2534)\n",
      "musk (2.2231)\n",
      "kanalzero (2.1968)\n",
      "\n",
      "Top 5 features against class 1:\n",
      "swiat (-3.7873)\n",
      "polska (-3.3101)\n",
      "ze (-3.0972)\n",
      "na (-2.8914)\n",
      "przez (-2.8032)\n",
      "\n",
      "Top 5 the most discrimative features 1:\n",
      "wosp (diff=4.0458, coef=2.9898)\n",
      "pomoc (diff=3.4057, coef=2.3460)\n",
      "musk (diff=3.2526, coef=2.2231)\n",
      "kanalzero (diff=3.2481, coef=2.1968)\n",
      "owsiak (diff=2.9838, coef=2.1234)\n",
      "\n",
      "\n",
      "=== Class: 2 (index 2) ===\n",
      "\n",
      "Top 5 features for class 2:\n",
      "swiat (8.4781)\n",
      "koronawirus (7.1595)\n",
      "wykop (4.9490)\n",
      "europa (4.9308)\n",
      "polska (4.7420)\n",
      "\n",
      "Top 5 features against class 2:\n",
      "trump (-3.4423)\n",
      "2025 (-2.2402)\n",
      "wydarzenia (-2.1570)\n",
      "ai (-2.1430)\n",
      "nieruchomosci (-2.1096)\n",
      "\n",
      "Top 5 the most discrimative features 2:\n",
      "swiat (diff=12.2654, coef=8.4781)\n",
      "koronawirus (diff=9.9344, coef=7.1595)\n",
      "europa (diff=7.2288, coef=4.9308)\n",
      "moderacja (diff=6.7799, coef=4.6272)\n",
      "bekazlewactwa (diff=6.5638, coef=4.4890)\n"
     ]
    }
   ],
   "source": [
    "def show_most_important_words_multiclass(pipeline_model, top_n=15, show_discriminative=True):\n",
    "    \"\"\"\n",
    "    pipeline_model: Pipeline with steps 'tfidf' i 'clf'\n",
    "    top_n: how many words to show for each class\n",
    "    show_discriminative: to show the most discrimative variable\n",
    "    \"\"\"\n",
    "    try:\n",
    "        vectorizer = pipeline_model.named_steps['tfidf']\n",
    "        clf = pipeline_model.named_steps['clf']\n",
    "    except Exception as e:\n",
    "        raise ValueError(\"Model should contain Pipeline with steps: 'tfidf' i 'clf'.\") from e\n",
    "\n",
    "    feature_names = np.array(vectorizer.get_feature_names_out())\n",
    "    coefs = clf.coef_\n",
    "    \n",
    "    if coefs.ndim == 1:\n",
    "        coefs = coefs.reshape(1, -1)\n",
    "\n",
    "    n_classes = coefs.shape[0]\n",
    "    classes = clf.classes_\n",
    "\n",
    "    for i, cls in enumerate(classes):\n",
    "        if len(classes) == 2 and i == 1:\n",
    "            break\n",
    "        \n",
    "        print(f\"\\n\\n=== Class: {cls} (index {i}) ===\")\n",
    "        coef_i = coefs[i]\n",
    "\n",
    "        top_pos_idx = np.argsort(coef_i)[-top_n:][::-1]\n",
    "        print(f\"\\nTop {top_n} features for class {cls}:\")\n",
    "        for idx in top_pos_idx:\n",
    "            print(f\"{feature_names[idx]} ({coef_i[idx]:.4f})\")\n",
    "\n",
    "        top_neg_idx = np.argsort(coef_i)[:top_n]\n",
    "        print(f\"\\nTop {top_n} features against class {cls}:\")\n",
    "        for idx in top_neg_idx:\n",
    "            print(f\"{feature_names[idx]} ({coef_i[idx]:.4f})\")\n",
    "\n",
    "        if show_discriminative and n_classes > 1:\n",
    "            others_max = np.max(np.delete(coefs, i, axis=0), axis=0)\n",
    "            discriminative_score = coef_i - others_max\n",
    "            top_disc_idx = np.argsort(discriminative_score)[-top_n:][::-1]\n",
    "            print(f\"\\nTop {top_n} the most discrimative features {cls}:\")\n",
    "            for idx in top_disc_idx:\n",
    "                print(f\"{feature_names[idx]} (diff={discriminative_score[idx]:.4f}, coef={coef_i[idx]:.4f})\")\n",
    "    \n",
    "show_most_important_words_multiclass(model, 5)"
   ]
  },
  {
   "cell_type": "markdown",
   "id": "127e20b3",
   "metadata": {},
   "source": [
    "### Looks like many of these words are tags - they are associated with some label\n",
    "\n",
    "Let's try to mitigate that and discard tags"
   ]
  },
  {
   "cell_type": "code",
   "execution_count": 151,
   "id": "97ae6199",
   "metadata": {},
   "outputs": [
    {
     "name": "stdout",
     "output_type": "stream",
     "text": [
      "              precision    recall  f1-score   support\n",
      "\n",
      "           0      0.915     0.821     0.865      1714\n",
      "           1      0.926     0.994     0.959      1714\n",
      "           2      0.895     0.921     0.908      1714\n",
      "\n",
      "    accuracy                          0.912      5142\n",
      "   macro avg      0.912     0.912     0.911      5142\n",
      "weighted avg      0.912     0.912     0.911      5142\n",
      "\n"
     ]
    },
    {
     "data": {
      "image/png": "[encoded data removed]",
      "text/plain": [
       "<Figure size 640x480 with 2 Axes>"
      ]
     },
     "metadata": {},
     "output_type": "display_data"
    },
    {
     "name": "stdout",
     "output_type": "stream",
     "text": [
      "\n",
      "\n",
      "=== Class: 0 (index 0) ===\n",
      "\n",
      "Top 5 features for class 0:\n",
      "2024 (3.1349)\n",
      "2025 (2.5255)\n",
      "na (2.3254)\n",
      "historia (2.1440)\n",
      "afd (2.0672)\n",
      "\n",
      "Top 5 features against class 0:\n",
      "wykop (-3.0867)\n",
      "moderacja (-3.0728)\n",
      "lgbt (-2.4725)\n",
      "żydzi (-2.3970)\n",
      "covid (-2.3100)\n",
      "\n",
      "Top 5 the most discrimative features 0:\n",
      "2024 (diff=3.8486, coef=3.1349)\n",
      "historia (diff=3.1807, coef=2.1440)\n",
      "afd (diff=2.9448, coef=2.0672)\n",
      "proces (diff=2.7258, coef=1.8688)\n",
      "ponad (diff=2.5285, coef=1.7019)\n",
      "\n",
      "\n",
      "=== Class: 1 (index 1) ===\n",
      "\n",
      "Top 5 features for class 1:\n",
      "wośp (3.3036)\n",
      "mentzen (2.4305)\n",
      "owsiak (2.4115)\n",
      "na raz (2.3616)\n",
      "musk (2.2920)\n",
      "\n",
      "Top 5 features against class 1:\n",
      "przez (-3.0818)\n",
      "na (-2.7031)\n",
      "że (-2.6419)\n",
      "nie (-2.4063)\n",
      "ich (-2.2296)\n",
      "\n",
      "Top 5 the most discrimative features 1:\n",
      "wośp (diff=4.5694, coef=3.3036)\n",
      "owsiak (diff=3.5637, coef=2.4115)\n",
      "na raz (diff=3.3224, coef=2.3616)\n",
      "musk (diff=3.2216, coef=2.2920)\n",
      "mentzen (diff=3.1512, coef=2.4305)\n",
      "\n",
      "\n",
      "=== Class: 2 (index 2) ===\n",
      "\n",
      "Top 5 features for class 2:\n",
      "moderacja (5.1476)\n",
      "lgbt (3.7527)\n",
      "covid (3.4964)\n",
      "wykop (3.4573)\n",
      "koronawirusa (3.2491)\n",
      "\n",
      "Top 5 features against class 2:\n",
      "2025 (-3.0906)\n",
      "trump (-2.9553)\n",
      "trumpa (-2.7321)\n",
      "2024 (-2.4212)\n",
      "ai (-2.3963)\n",
      "\n",
      "Top 5 the most discrimative features 2:\n",
      "moderacja (diff=7.2225, coef=5.1476)\n",
      "lgbt (diff=5.0330, coef=3.7527)\n",
      "covid (diff=4.6827, coef=3.4964)\n",
      "koronawirusa (diff=4.2180, coef=3.2491)\n",
      "żydzi (diff=4.1007, coef=3.2489)\n"
     ]
    }
   ],
   "source": [
    "# Retraining\n",
    "model = train_tfidf_logistic_regression_model(df_balanced, x_column=\"clean_text_no_tags\", y_column=\"label\")\n",
    "\n",
    "show_most_important_words_multiclass(model, 5)"
   ]
  },
  {
   "cell_type": "markdown",
   "id": "f840b3b6",
   "metadata": {},
   "source": [
    "With Tags:\n",
    "```sh\n",
    "              precision    recall  f1-score   support\n",
    "\n",
    "           0      0.950     0.856     0.901      1714\n",
    "           1      0.925     0.995     0.958      1714\n",
    "           2      0.936     0.957     0.946      1714\n",
    "\n",
    "    accuracy                          0.936      5142\n",
    "   macro avg      0.937     0.936     0.935      5142\n",
    "weighted avg      0.937     0.936     0.935      5142\n",
    "```\n",
    "\n",
    "Wihtout Tags: \n",
    "```sh\n",
    "              precision    recall  f1-score   support\n",
    "\n",
    "           0      0.909     0.820     0.862      1714\n",
    "           1      0.927     0.991     0.958      1714\n",
    "           2      0.893     0.919     0.906      1714\n",
    "\n",
    "    accuracy                          0.910      5142\n",
    "   macro avg      0.910     0.910     0.909      5142\n",
    "weighted avg      0.910     0.910     0.909      5142\n",
    "```\n",
    "\n",
    "Class 0 and 2 are the most affected - they are most likely using some tags to get better results. Class 1 is mostly not affected. The drop in effectiveness is slight - the recall is very high - which is desirable for class 1 and 2 especially."
   ]
  },
  {
   "cell_type": "markdown",
   "id": "68ece4fa",
   "metadata": {},
   "source": [
    "### Try only 2 labels classification"
   ]
  },
  {
   "cell_type": "code",
   "execution_count": 152,
   "id": "c6bd0dca",
   "metadata": {},
   "outputs": [
    {
     "data": {
      "text/plain": [
       "label\n",
       "0    0.714929\n",
       "1    0.285071\n",
       "Name: proportion, dtype: float64"
      ]
     },
     "execution_count": 152,
     "metadata": {},
     "output_type": "execute_result"
    }
   ],
   "source": [
    "df[\"label\"] = df[\"scores\"].apply(lambda x: 0 if x < 0.5 else 1)\n",
    "\n",
    "df[\"label\"].value_counts(normalize=True)"
   ]
  },
  {
   "cell_type": "code",
   "execution_count": 153,
   "id": "dd5803a0",
   "metadata": {},
   "outputs": [
    {
     "name": "stdout",
     "output_type": "stream",
     "text": [
      "              precision    recall  f1-score   support\n",
      "\n",
      "           0      0.899     0.900     0.900      1714\n",
      "           1      0.749     0.747     0.748       684\n",
      "\n",
      "    accuracy                          0.857      2398\n",
      "   macro avg      0.824     0.824     0.824      2398\n",
      "weighted avg      0.856     0.857     0.856      2398\n",
      "\n"
     ]
    },
    {
     "data": {
      "image/png": "[encoded data removed]",
      "text/plain": [
       "<Figure size 640x480 with 2 Axes>"
      ]
     },
     "metadata": {},
     "output_type": "display_data"
    }
   ],
   "source": [
    "model = train_tfidf_logistic_regression_model(df, x_column=\"clean_text\", y_column=\"label\")"
   ]
  },
  {
   "cell_type": "markdown",
   "id": "8854ae37",
   "metadata": {},
   "source": [
    "### With balancing"
   ]
  },
  {
   "cell_type": "code",
   "execution_count": 154,
   "id": "b9a6de84",
   "metadata": {},
   "outputs": [
    {
     "name": "stdout",
     "output_type": "stream",
     "text": [
      "              precision    recall  f1-score   support\n",
      "\n",
      "           0      0.873     0.901     0.887      1715\n",
      "           1      0.898     0.869     0.883      1714\n",
      "\n",
      "    accuracy                          0.885      3429\n",
      "   macro avg      0.885     0.885     0.885      3429\n",
      "weighted avg      0.885     0.885     0.885      3429\n",
      "\n"
     ]
    },
    {
     "data": {
      "image/png": "[encoded data removed]",
      "text/plain": [
       "<Figure size 640x480 with 2 Axes>"
      ]
     },
     "metadata": {},
     "output_type": "display_data"
    }
   ],
   "source": [
    "from sklearn.utils import resample\n",
    "\n",
    "majority = df[df.label == 0]\n",
    "minority = df[df.label == 1]\n",
    "\n",
    "minority_upsampled = resample(minority, replace=True, n_samples=len(majority), random_state=42)\n",
    "\n",
    "df_balanced = pd.concat([majority, minority_upsampled])\n",
    "\n",
    "# Retraining\n",
    "model = train_tfidf_logistic_regression_model(df_balanced, x_column=\"clean_text\", y_column=\"label\")"
   ]
  },
  {
   "cell_type": "code",
   "execution_count": 155,
   "id": "5c06a30b",
   "metadata": {},
   "outputs": [
    {
     "name": "stdout",
     "output_type": "stream",
     "text": [
      "\n",
      "\n",
      "=== Class: 0 (index 0) ===\n",
      "\n",
      "Top 5 features for class 0:\n",
      "swiat (8.3462)\n",
      "koronawirus (7.7246)\n",
      "wykop (6.5673)\n",
      "covid19 (5.5959)\n",
      "4konserwy (5.1588)\n",
      "\n",
      "Top 5 features against class 0:\n",
      "gospodarka (-3.3705)\n",
      "nieruchomosci (-3.2919)\n",
      "wydarzenia (-2.9357)\n",
      "2024 (-2.8745)\n",
      "historia (-2.6778)\n"
     ]
    }
   ],
   "source": [
    "show_most_important_words_multiclass(model, 5)"
   ]
  },
  {
   "cell_type": "markdown",
   "id": "ecdcd2a1",
   "metadata": {},
   "source": [
    "### Now with excluded tags"
   ]
  },
  {
   "cell_type": "code",
   "execution_count": 156,
   "id": "8a895b4f",
   "metadata": {},
   "outputs": [
    {
     "name": "stdout",
     "output_type": "stream",
     "text": [
      "              precision    recall  f1-score   support\n",
      "\n",
      "           0      0.837     0.853     0.845      1715\n",
      "           1      0.850     0.834     0.842      1714\n",
      "\n",
      "    accuracy                          0.843      3429\n",
      "   macro avg      0.844     0.843     0.843      3429\n",
      "weighted avg      0.844     0.843     0.843      3429\n",
      "\n"
     ]
    },
    {
     "data": {
      "image/png": "[encoded data removed]",
      "text/plain": [
       "<Figure size 640x480 with 2 Axes>"
      ]
     },
     "metadata": {},
     "output_type": "display_data"
    },
    {
     "name": "stdout",
     "output_type": "stream",
     "text": [
      "\n",
      "\n",
      "=== Class: 0 (index 0) ===\n",
      "\n",
      "Top 5 features for class 0:\n",
      "moderacja (5.9006)\n",
      "wykop (4.6074)\n",
      "covid (4.5666)\n",
      "lgbt (4.4779)\n",
      "żydzi (3.4189)\n",
      "\n",
      "Top 5 features against class 0:\n",
      "2024 (-3.3381)\n",
      "2025 (-2.6446)\n",
      "historia (-2.4077)\n",
      "na (-2.2088)\n",
      "trump (-2.1841)\n"
     ]
    }
   ],
   "source": [
    "model = train_tfidf_logistic_regression_model(df_balanced, x_column=\"clean_text_no_tags\", y_column=\"label\")\n",
    "\n",
    "show_most_important_words_multiclass(model, 5)"
   ]
  }
 ],
 "metadata": {
  "kernelspec": {
   "display_name": "computational-intelligence-2025 (3.12.10)",
   "language": "python",
   "name": "python3"
  },
  "language_info": {
   "codemirror_mode": {
    "name": "ipython",
    "version": 3
   },
   "file_extension": ".py",
   "mimetype": "text/x-python",
   "name": "python",
   "nbconvert_exporter": "python",
   "pygments_lexer": "ipython3",
   "version": "3.12.10"
  }
 },
 "nbformat": 4,
 "nbformat_minor": 5
}
