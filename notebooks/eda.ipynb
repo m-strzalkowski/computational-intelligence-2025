{
 "cells": [
  {
   "cell_type": "code",
   "execution_count": 131,
   "id": "9b2ce768",
   "metadata": {},
   "outputs": [],
   "source": [
    "import pandas as pd\n",
    "import json\n",
    "import matplotlib.pyplot as plt\n",
    "import numpy as np\n",
    "import re\n",
    "\n",
    "\n",
    "def load_json_to_dataframe(file_path):\n",
    "    with open(file_path, 'r', encoding='utf-8') as file:\n",
    "        data = json.load(file)\n",
    "    return pd.DataFrame(data['data'])\n",
    "\n",
    "def jitter_labels(y, sigma=0.05):\n",
    "    \"\"\"Adding random noise to the data\"\"\"\n",
    "    return np.clip(np.random.normal(y, sigma), 0, 1)"
   ]
  },
  {
   "cell_type": "markdown",
   "id": "ff2024d1",
   "metadata": {},
   "source": [
    "# Data from Homepage\n",
    "data is from API"
   ]
  },
  {
   "cell_type": "code",
   "execution_count": 135,
   "id": "898958fe",
   "metadata": {},
   "outputs": [],
   "source": [
    "link_homepage = '../data/homepage_posts_data.json'\n",
    "df_homepage = load_json_to_dataframe(link_homepage)"
   ]
  },
  {
   "cell_type": "code",
   "execution_count": 136,
   "id": "94e5cee6",
   "metadata": {},
   "outputs": [
    {
     "data": {
      "text/plain": [
       "Index(['id', 'created_at', 'title', 'slug', 'description', 'source', 'author',\n",
       "       'published_at', 'votes', 'voted', 'comments', 'tags', 'hot', 'adult',\n",
       "       'media', 'editable', 'deletable', 'resource', 'actions', 'archive',\n",
       "       'observed_discussion', 'parent', 'tag_pinned_content', 'pinnable',\n",
       "       'recommended', 'family_friendly', 'favourite', 'alerts', 'ama'],\n",
       "      dtype='object')"
      ]
     },
     "execution_count": 136,
     "metadata": {},
     "output_type": "execute_result"
    }
   ],
   "source": [
    "df_homepage.columns"
   ]
  },
  {
   "cell_type": "code",
   "execution_count": 137,
   "id": "99efdf26",
   "metadata": {},
   "outputs": [],
   "source": [
    "df_homepage = df_homepage.drop(columns=[\n",
    "    'created_at', 'source', 'slug', 'published_at', 'hot', 'adult', 'media', 'observed_discussion', 'parent', 'tag_pinned_content', 'pinnable', 'editable', 'deletable', 'resource', 'actions', 'archive', 'recommended', 'family_friendly', 'favourite', 'ama', 'voted'\n",
    "])"
   ]
  },
  {
   "cell_type": "code",
   "execution_count": 138,
   "id": "2132dd60",
   "metadata": {},
   "outputs": [],
   "source": [
    "df_homepage['author'] = df_homepage['author'].apply(lambda x: x['username'])\n",
    "df_homepage['downvotes'] = df_homepage['votes'].apply(lambda x: x['down'])\n",
    "df_homepage['votes'] = df_homepage['votes'].apply(lambda x: x['up'])"
   ]
  },
  {
   "cell_type": "code",
   "execution_count": 139,
   "id": "2a2c6e5e",
   "metadata": {},
   "outputs": [
    {
     "data": {
      "text/html": [
       "<div>\n",
       "<style scoped>\n",
       "    .dataframe tbody tr th:only-of-type {\n",
       "        vertical-align: middle;\n",
       "    }\n",
       "\n",
       "    .dataframe tbody tr th {\n",
       "        vertical-align: top;\n",
       "    }\n",
       "\n",
       "    .dataframe thead th {\n",
       "        text-align: right;\n",
       "    }\n",
       "</style>\n",
       "<table border=\"1\" class=\"dataframe\">\n",
       "  <thead>\n",
       "    <tr style=\"text-align: right;\">\n",
       "      <th></th>\n",
       "      <th>id</th>\n",
       "      <th>title</th>\n",
       "      <th>description</th>\n",
       "      <th>author</th>\n",
       "      <th>votes</th>\n",
       "      <th>comments</th>\n",
       "      <th>tags</th>\n",
       "      <th>alerts</th>\n",
       "      <th>downvotes</th>\n",
       "    </tr>\n",
       "  </thead>\n",
       "  <tbody>\n",
       "    <tr>\n",
       "      <th>0</th>\n",
       "      <td>7766021</td>\n",
       "      <td>Pracujących Polaków nie stać nawet na metr mie...</td>\n",
       "      <td>Polaków nie stać na zakup nawet 1 m kw. mieszk...</td>\n",
       "      <td>ross-flow</td>\n",
       "      <td>485</td>\n",
       "      <td>{'hot': False, 'count': 222}</td>\n",
       "      <td>[nieruchomosci, wynajem, rynekwtorny, mieszkania]</td>\n",
       "      <td>[]</td>\n",
       "      <td>13</td>\n",
       "    </tr>\n",
       "    <tr>\n",
       "      <th>1</th>\n",
       "      <td>7798801</td>\n",
       "      <td>Owczarki zaatakowały jamnika. Brutus nie żyje,...</td>\n",
       "      <td>To był spacer jak każdego innego dnia. Nagle ł...</td>\n",
       "      <td>coiber</td>\n",
       "      <td>631</td>\n",
       "      <td>{'hot': False, 'count': 101}</td>\n",
       "      <td>[lodz, psy, pies, psiarze, bekazpodludzi]</td>\n",
       "      <td>[]</td>\n",
       "      <td>30</td>\n",
       "    </tr>\n",
       "    <tr>\n",
       "      <th>2</th>\n",
       "      <td>7667729</td>\n",
       "      <td>Mocne oświadczenie PZN po aferze w skokach. Li...</td>\n",
       "      <td>Tymczasowe zawieszenie sztabu szkoleniowego i ...</td>\n",
       "      <td>Bobito</td>\n",
       "      <td>288</td>\n",
       "      <td>{'hot': False, 'count': 56}</td>\n",
       "      <td>[sport, skoki, skokinarciarskie, swiat]</td>\n",
       "      <td>[]</td>\n",
       "      <td>4</td>\n",
       "    </tr>\n",
       "    <tr>\n",
       "      <th>3</th>\n",
       "      <td>7798789</td>\n",
       "      <td>Jak ojciec Sebastiana M. stracił milion złotyc...</td>\n",
       "      <td>Właścicielem pojazdu był Jarosław M., ojciec S...</td>\n",
       "      <td>Kolekcjoner_dusz</td>\n",
       "      <td>707</td>\n",
       "      <td>{'hot': False, 'count': 207}</td>\n",
       "      <td>[sebastianmajtczak, majtczak, polskiedrogi, wy...</td>\n",
       "      <td>[]</td>\n",
       "      <td>4</td>\n",
       "    </tr>\n",
       "    <tr>\n",
       "      <th>4</th>\n",
       "      <td>7766029</td>\n",
       "      <td>zus anulował rente</td>\n",
       "      <td>mieszkanka Szczecina, miała 27 lat, gdy straci...</td>\n",
       "      <td>stefan_1971</td>\n",
       "      <td>458</td>\n",
       "      <td>{'hot': False, 'count': 123}</td>\n",
       "      <td>[zus, renta]</td>\n",
       "      <td>[]</td>\n",
       "      <td>10</td>\n",
       "    </tr>\n",
       "    <tr>\n",
       "      <th>...</th>\n",
       "      <td>...</td>\n",
       "      <td>...</td>\n",
       "      <td>...</td>\n",
       "      <td>...</td>\n",
       "      <td>...</td>\n",
       "      <td>...</td>\n",
       "      <td>...</td>\n",
       "      <td>...</td>\n",
       "      <td>...</td>\n",
       "    </tr>\n",
       "    <tr>\n",
       "      <th>9858</th>\n",
       "      <td>7733231</td>\n",
       "      <td>xcancel.com - przeglądaj twitty I odpowiedzi b...</td>\n",
       "      <td>W sumie trochę mnie dziwi, ze ta stronka nie j...</td>\n",
       "      <td>Returned</td>\n",
       "      <td>438</td>\n",
       "      <td>{'hot': False, 'count': 32}</td>\n",
       "      <td>[technologia, twitter, lifehack, internet]</td>\n",
       "      <td>[]</td>\n",
       "      <td>5</td>\n",
       "    </tr>\n",
       "    <tr>\n",
       "      <th>9859</th>\n",
       "      <td>7700465</td>\n",
       "      <td>Tani sposób Niemców na oczyszczanie wody. W Po...</td>\n",
       "      <td>Nowe badanie pokazuje, że mikroplastiki i toks...</td>\n",
       "      <td>Rasteris</td>\n",
       "      <td>427</td>\n",
       "      <td>{'hot': False, 'count': 53}</td>\n",
       "      <td>[woda, przyroda, nauka, technika, las]</td>\n",
       "      <td>[]</td>\n",
       "      <td>9</td>\n",
       "    </tr>\n",
       "    <tr>\n",
       "      <th>9860</th>\n",
       "      <td>7798775</td>\n",
       "      <td>Zabił rodzinę, uciekł ze szpitala. Dożywocia n...</td>\n",
       "      <td>Prokuratura żądała dożywocia, sąd się na to ni...</td>\n",
       "      <td>ZobaczLink</td>\n",
       "      <td>235</td>\n",
       "      <td>{'hot': False, 'count': 28}</td>\n",
       "      <td>[polska, prawo, sadowehistorie, kryminalne, mo...</td>\n",
       "      <td>[]</td>\n",
       "      <td>1</td>\n",
       "    </tr>\n",
       "    <tr>\n",
       "      <th>9861</th>\n",
       "      <td>7733241</td>\n",
       "      <td>Zabrali i umieścili w rodzinie zastępczej. Czt...</td>\n",
       "      <td>Policja odebrała i umieściła w rodzinie zastęp...</td>\n",
       "      <td>Kolekcjoner_dusz</td>\n",
       "      <td>543</td>\n",
       "      <td>{'hot': False, 'count': 185}</td>\n",
       "      <td>[warszawa, policja, afera]</td>\n",
       "      <td>[]</td>\n",
       "      <td>58</td>\n",
       "    </tr>\n",
       "    <tr>\n",
       "      <th>9862</th>\n",
       "      <td>7667707</td>\n",
       "      <td>Cła odwetowe UE wobec USA, m.in. na mięso, orz...</td>\n",
       "      <td>12 marca Komisja Europejska poinformowała o na...</td>\n",
       "      <td>p0391</td>\n",
       "      <td>360</td>\n",
       "      <td>{'hot': False, 'count': 204}</td>\n",
       "      <td>[ue, uniaeuropejska, europa, polska, usa, gosp...</td>\n",
       "      <td>[]</td>\n",
       "      <td>4</td>\n",
       "    </tr>\n",
       "  </tbody>\n",
       "</table>\n",
       "<p>9863 rows × 9 columns</p>\n",
       "</div>"
      ],
      "text/plain": [
       "           id                                              title  \\\n",
       "0     7766021  Pracujących Polaków nie stać nawet na metr mie...   \n",
       "1     7798801  Owczarki zaatakowały jamnika. Brutus nie żyje,...   \n",
       "2     7667729  Mocne oświadczenie PZN po aferze w skokach. Li...   \n",
       "3     7798789  Jak ojciec Sebastiana M. stracił milion złotyc...   \n",
       "4     7766029                                 zus anulował rente   \n",
       "...       ...                                                ...   \n",
       "9858  7733231  xcancel.com - przeglądaj twitty I odpowiedzi b...   \n",
       "9859  7700465  Tani sposób Niemców na oczyszczanie wody. W Po...   \n",
       "9860  7798775  Zabił rodzinę, uciekł ze szpitala. Dożywocia n...   \n",
       "9861  7733241  Zabrali i umieścili w rodzinie zastępczej. Czt...   \n",
       "9862  7667707  Cła odwetowe UE wobec USA, m.in. na mięso, orz...   \n",
       "\n",
       "                                            description            author  \\\n",
       "0     Polaków nie stać na zakup nawet 1 m kw. mieszk...         ross-flow   \n",
       "1     To był spacer jak każdego innego dnia. Nagle ł...            coiber   \n",
       "2     Tymczasowe zawieszenie sztabu szkoleniowego i ...            Bobito   \n",
       "3     Właścicielem pojazdu był Jarosław M., ojciec S...  Kolekcjoner_dusz   \n",
       "4     mieszkanka Szczecina, miała 27 lat, gdy straci...       stefan_1971   \n",
       "...                                                 ...               ...   \n",
       "9858  W sumie trochę mnie dziwi, ze ta stronka nie j...          Returned   \n",
       "9859  Nowe badanie pokazuje, że mikroplastiki i toks...          Rasteris   \n",
       "9860  Prokuratura żądała dożywocia, sąd się na to ni...        ZobaczLink   \n",
       "9861  Policja odebrała i umieściła w rodzinie zastęp...  Kolekcjoner_dusz   \n",
       "9862  12 marca Komisja Europejska poinformowała o na...             p0391   \n",
       "\n",
       "      votes                      comments  \\\n",
       "0       485  {'hot': False, 'count': 222}   \n",
       "1       631  {'hot': False, 'count': 101}   \n",
       "2       288   {'hot': False, 'count': 56}   \n",
       "3       707  {'hot': False, 'count': 207}   \n",
       "4       458  {'hot': False, 'count': 123}   \n",
       "...     ...                           ...   \n",
       "9858    438   {'hot': False, 'count': 32}   \n",
       "9859    427   {'hot': False, 'count': 53}   \n",
       "9860    235   {'hot': False, 'count': 28}   \n",
       "9861    543  {'hot': False, 'count': 185}   \n",
       "9862    360  {'hot': False, 'count': 204}   \n",
       "\n",
       "                                                   tags alerts  downvotes  \n",
       "0     [nieruchomosci, wynajem, rynekwtorny, mieszkania]     []         13  \n",
       "1             [lodz, psy, pies, psiarze, bekazpodludzi]     []         30  \n",
       "2               [sport, skoki, skokinarciarskie, swiat]     []          4  \n",
       "3     [sebastianmajtczak, majtczak, polskiedrogi, wy...     []          4  \n",
       "4                                          [zus, renta]     []         10  \n",
       "...                                                 ...    ...        ...  \n",
       "9858         [technologia, twitter, lifehack, internet]     []          5  \n",
       "9859             [woda, przyroda, nauka, technika, las]     []          9  \n",
       "9860  [polska, prawo, sadowehistorie, kryminalne, mo...     []          1  \n",
       "9861                         [warszawa, policja, afera]     []         58  \n",
       "9862  [ue, uniaeuropejska, europa, polska, usa, gosp...     []          4  \n",
       "\n",
       "[9863 rows x 9 columns]"
      ]
     },
     "execution_count": 139,
     "metadata": {},
     "output_type": "execute_result"
    }
   ],
   "source": [
    "df_homepage"
   ]
  },
  {
   "cell_type": "markdown",
   "id": "8bf89f8f",
   "metadata": {},
   "source": [
    "# Data from id scan"
   ]
  },
  {
   "cell_type": "code",
   "execution_count": 140,
   "id": "3cf33454",
   "metadata": {},
   "outputs": [],
   "source": [
    "link = '../data/final_combined_results_7631933-7651933.json'\n",
    "df_id = load_json_to_dataframe(link)"
   ]
  },
  {
   "cell_type": "code",
   "execution_count": 141,
   "id": "3b952f1d",
   "metadata": {},
   "outputs": [
    {
     "data": {
      "text/plain": [
       "Index(['id', 'url', 'title', 'points', 'description', 'added_date', 'tags',\n",
       "       'alerts', 'comments', 'status', 'proxy', 'error'],\n",
       "      dtype='object')"
      ]
     },
     "execution_count": 141,
     "metadata": {},
     "output_type": "execute_result"
    }
   ],
   "source": [
    "df_id.columns"
   ]
  },
  {
   "cell_type": "code",
   "execution_count": 142,
   "id": "a42d6053",
   "metadata": {},
   "outputs": [],
   "source": [
    "df_id = df_id[df_id['error'].isna()]"
   ]
  },
  {
   "cell_type": "code",
   "execution_count": 143,
   "id": "4449ef01",
   "metadata": {},
   "outputs": [],
   "source": [
    "df_id = df_id.drop(columns=['status', 'proxy', 'error']).reset_index(drop=True)"
   ]
  },
  {
   "cell_type": "code",
   "execution_count": 144,
   "id": "e0bdaadb",
   "metadata": {},
   "outputs": [
    {
     "name": "stdout",
     "output_type": "stream",
     "text": [
      "Count of alerts:  1153\n",
      "All alerts are either 'zakopane' or 'duplikat'\n"
     ]
    },
    {
     "name": "stderr",
     "output_type": "stream",
     "text": [
      "C:\\Users\\juziu\\AppData\\Local\\Temp\\ipykernel_6868\\3722623095.py:2: SettingWithCopyWarning: \n",
      "A value is trying to be set on a copy of a slice from a DataFrame.\n",
      "Try using .loc[row_indexer,col_indexer] = value instead\n",
      "\n",
      "See the caveats in the documentation: https://pandas.pydata.org/pandas-docs/stable/user_guide/indexing.html#returning-a-view-versus-a-copy\n",
      "  alerts_df_id['zakopane'] = alerts_df_id['alerts'].apply(lambda x: x['title'] == 'To Znalezisko zostało zakopane')\n",
      "C:\\Users\\juziu\\AppData\\Local\\Temp\\ipykernel_6868\\3722623095.py:3: SettingWithCopyWarning: \n",
      "A value is trying to be set on a copy of a slice from a DataFrame.\n",
      "Try using .loc[row_indexer,col_indexer] = value instead\n",
      "\n",
      "See the caveats in the documentation: https://pandas.pydata.org/pandas-docs/stable/user_guide/indexing.html#returning-a-view-versus-a-copy\n",
      "  alerts_df_id['duplikat'] = alerts_df_id['alerts'].apply(lambda x: (x['title'] == 'To Znalezisko zostało wyrzucone') and ('Duplikat' in x['body']))\n"
     ]
    }
   ],
   "source": [
    "alerts_df_id = df_id[df_id['alerts'].notna()]\n",
    "alerts_df_id['zakopane'] = alerts_df_id['alerts'].apply(lambda x: x['title'] == 'To Znalezisko zostało zakopane')\n",
    "alerts_df_id['duplikat'] = alerts_df_id['alerts'].apply(lambda x: (x['title'] == 'To Znalezisko zostało wyrzucone') and ('Duplikat' in x['body']))\n",
    "print(\"Count of alerts: \", len(alerts_df_id))\n",
    "\n",
    "# Check if all alerts are either 'zakopane' or 'duplikat'\n",
    "zakopane_duplikat = (alerts_df_id['zakopane'] | alerts_df_id['duplikat']).all()\n",
    "\n",
    "if zakopane_duplikat:\n",
    "    print(\"All alerts are either 'zakopane' or 'duplikat'\")\n",
    "    \n",
    "    # Remove the 'alerts' column as it is no longer needed\n",
    "    alerts_df_id = alerts_df_id.drop(columns=['alerts'])\n",
    "\n",
    "    # can remove duplicates now\n",
    "    alerts_df_id = alerts_df_id[~alerts_df_id['duplikat']].drop(columns=['duplikat'])"
   ]
  },
  {
   "cell_type": "markdown",
   "id": "2b895b34",
   "metadata": {},
   "source": [
    "## Get comments and see if they contain information about manipulation and check their points\n",
    "\n",
    "**NOTE**: this is still important to check because word 'manipulation' can also not address the original post"
   ]
  },
  {
   "cell_type": "code",
   "execution_count": 145,
   "id": "f42d8474",
   "metadata": {},
   "outputs": [],
   "source": [
    "# content: None means that there was some multimedia posted and no text\n",
    "df_id['comments_content_points'] = df_id['comments'].apply(lambda x: [(c['content'], c['points']) for c in x if c['content'] is not None])"
   ]
  },
  {
   "cell_type": "code",
   "execution_count": 146,
   "id": "e573d9b8",
   "metadata": {},
   "outputs": [],
   "source": [
    "import re\n",
    "pattern = re.compile(r'\\bmanipula\\w*\\b', flags=re.IGNORECASE)\n",
    "\n",
    "df_id['mentions_manipulation'] = df_id['comments_content_points'] \\\n",
    "    .apply(lambda list_c:\n",
    "        any(pattern.search(c[0]) for c in list_c if isinstance(c[0], str))\n",
    "    )"
   ]
  },
  {
   "cell_type": "code",
   "execution_count": 147,
   "id": "39079b5a",
   "metadata": {},
   "outputs": [],
   "source": [
    "df_id['top_manipulation_comment'] = df_id['comments_content_points'].apply(\n",
    "    lambda comments: max(\n",
    "        (c for c in comments if pattern.search(c[0])),\n",
    "        key=lambda c: c[1],\n",
    "        default=None\n",
    "    )\n",
    ")"
   ]
  },
  {
   "cell_type": "markdown",
   "id": "eb19f50f",
   "metadata": {},
   "source": [
    "## Is comment containing 'informacja nieprawdziwa' or 'nieprawdziwa informacja'"
   ]
  },
  {
   "cell_type": "code",
   "execution_count": 148,
   "id": "2fdb1baa",
   "metadata": {},
   "outputs": [],
   "source": [
    "df_id['comment_informacja_nieprawdziwa'] = df_id['comments_content_points'].apply(\n",
    "    lambda comments: max(\n",
    "        (c for c in comments if re.compile(r'informacja nieprawdziwa|nieprawdziwa informacja', re.IGNORECASE).search(c[0])),\n",
    "        key=lambda c: c[1],\n",
    "        default=None\n",
    "    )\n",
    ")"
   ]
  },
  {
   "cell_type": "code",
   "execution_count": 149,
   "id": "ad0b5d09",
   "metadata": {},
   "outputs": [
    {
     "data": {
      "text/plain": [
       "np.int64(53)"
      ]
     },
     "execution_count": 149,
     "metadata": {},
     "output_type": "execute_result"
    }
   ],
   "source": [
    "df_id['comment_informacja_nieprawdziwa'].notna().sum()"
   ]
  },
  {
   "cell_type": "code",
   "execution_count": 150,
   "id": "785c2329",
   "metadata": {},
   "outputs": [],
   "source": [
    "comment_informacja_nieprawdziwa_points = df_id[df_id['comment_informacja_nieprawdziwa'].notna()]['comment_informacja_nieprawdziwa'].apply(lambda x: x[1])\\\n",
    "      / df_id[df_id['comment_informacja_nieprawdziwa'].notna()]['points'].abs()\n",
    "\n",
    "df_id.loc[comment_informacja_nieprawdziwa_points.index, 'score_informacja_nieprawdziwa'] = comment_informacja_nieprawdziwa_points"
   ]
  },
  {
   "cell_type": "markdown",
   "id": "269a7ff7",
   "metadata": {},
   "source": [
    "### Method involves label smoothing - model will not generalize well possibly"
   ]
  },
  {
   "cell_type": "code",
   "execution_count": 151,
   "id": "6d59eeb9",
   "metadata": {},
   "outputs": [],
   "source": [
    "df_id.loc[alerts_df_id.index, 'score_zakopane'] = np.clip(\n",
    "    np.random.normal(loc=0.7, scale=0.05, size=len(alerts_df_id.index)),\n",
    "    0, 1\n",
    ")"
   ]
  },
  {
   "cell_type": "code",
   "execution_count": 154,
   "id": "88eb0105",
   "metadata": {},
   "outputs": [],
   "source": [
    "df_id['scores'] = df_id[['score_informacja_nieprawdziwa', 'score_zakopane']].sum(axis=1, skipna=True).fillna(0)"
   ]
  },
  {
   "cell_type": "code",
   "execution_count": 155,
   "id": "d1a4595f",
   "metadata": {},
   "outputs": [],
   "source": [
    "df_id.loc[df_id[df_id['scores'] == 0].index, 'scores'] = np.clip(\n",
    "    np.random.normal(loc=0, scale=0.05, size=len(df_id[df_id['scores'] == 0].index)),\n",
    "    0, 1\n",
    ")"
   ]
  },
  {
   "cell_type": "code",
   "execution_count": 156,
   "id": "7ef3a515",
   "metadata": {},
   "outputs": [],
   "source": [
    "df_id = df_id.rename(columns={'points': 'votes'})"
   ]
  },
  {
   "cell_type": "markdown",
   "id": "3547c911",
   "metadata": {},
   "source": [
    "# Data from Misinformation archive\n",
    "https://wykoppl-informacjanieprawdziwa.surge.sh/"
   ]
  },
  {
   "cell_type": "code",
   "execution_count": 157,
   "id": "aea228aa",
   "metadata": {},
   "outputs": [],
   "source": [
    "df_misinfo = load_json_to_dataframe('../data/mssinfo_wykop_posts.json')"
   ]
  },
  {
   "cell_type": "code",
   "execution_count": 158,
   "id": "9bd956b0",
   "metadata": {},
   "outputs": [],
   "source": [
    "df_misinfo['scores'] = np.clip(\n",
    "    np.random.normal(loc=1, scale=0.05, size=len(df_misinfo.index)),\n",
    "    0, 1\n",
    ")"
   ]
  },
  {
   "cell_type": "markdown",
   "id": "b95e2c7e",
   "metadata": {},
   "source": [
    "# Analysis\n",
    "\n",
    "Data From ID scan: `df`  \n",
    "Data from homepage: `df_homepage`  \n",
    "Data from misinfo list: `df_misinfo`"
   ]
  },
  {
   "cell_type": "code",
   "execution_count": 159,
   "id": "2bd2c4d5",
   "metadata": {},
   "outputs": [
    {
     "data": {
      "text/plain": [
       "Index(['id', 'title', 'description', 'author', 'votes', 'comments', 'tags',\n",
       "       'alerts', 'downvotes'],\n",
       "      dtype='object')"
      ]
     },
     "execution_count": 159,
     "metadata": {},
     "output_type": "execute_result"
    }
   ],
   "source": [
    "df_homepage.columns"
   ]
  },
  {
   "cell_type": "markdown",
   "id": "50034c5a",
   "metadata": {},
   "source": [
    "For now, `df_homepage` is not yet to be joined because the comments are not fetched"
   ]
  },
  {
   "cell_type": "code",
   "execution_count": 160,
   "id": "cc81554a",
   "metadata": {},
   "outputs": [
    {
     "data": {
      "text/plain": [
       "Index(['id', 'url', 'title', 'votes', 'description', 'added_date', 'tags',\n",
       "       'alerts', 'comments', 'comments_content_points',\n",
       "       'mentions_manipulation', 'top_manipulation_comment',\n",
       "       'comment_informacja_nieprawdziwa', 'score_informacja_nieprawdziwa',\n",
       "       'score_zakopane', 'scores'],\n",
       "      dtype='object')"
      ]
     },
     "execution_count": 160,
     "metadata": {},
     "output_type": "execute_result"
    }
   ],
   "source": [
    "df_id.columns"
   ]
  },
  {
   "cell_type": "code",
   "execution_count": 161,
   "id": "ba8c8346",
   "metadata": {},
   "outputs": [
    {
     "data": {
      "text/plain": [
       "Index(['id', 'url', 'title', 'description', 'added_date', 'author', 'tags',\n",
       "       'alerts', 'votes', 'downvotes', 'scores'],\n",
       "      dtype='object')"
      ]
     },
     "execution_count": 161,
     "metadata": {},
     "output_type": "execute_result"
    }
   ],
   "source": [
    "df_misinfo.columns"
   ]
  },
  {
   "cell_type": "code",
   "execution_count": 162,
   "id": "d811ea77",
   "metadata": {},
   "outputs": [],
   "source": [
    "df_id_ready = df_id.drop(columns=[\n",
    "    'id', 'url', 'added_date', 'alerts', 'comments', 'comments_content_points', \n",
    "    'mentions_manipulation', 'top_manipulation_comment', 'comment_informacja_nieprawdziwa',\n",
    "    'score_informacja_nieprawdziwa', 'score_zakopane'\n",
    "    ]\n",
    ")"
   ]
  },
  {
   "cell_type": "code",
   "execution_count": 163,
   "id": "35537d82",
   "metadata": {},
   "outputs": [
    {
     "data": {
      "text/html": [
       "<div>\n",
       "<style scoped>\n",
       "    .dataframe tbody tr th:only-of-type {\n",
       "        vertical-align: middle;\n",
       "    }\n",
       "\n",
       "    .dataframe tbody tr th {\n",
       "        vertical-align: top;\n",
       "    }\n",
       "\n",
       "    .dataframe thead th {\n",
       "        text-align: right;\n",
       "    }\n",
       "</style>\n",
       "<table border=\"1\" class=\"dataframe\">\n",
       "  <thead>\n",
       "    <tr style=\"text-align: right;\">\n",
       "      <th></th>\n",
       "      <th>title</th>\n",
       "      <th>votes</th>\n",
       "      <th>description</th>\n",
       "      <th>tags</th>\n",
       "      <th>scores</th>\n",
       "    </tr>\n",
       "  </thead>\n",
       "  <tbody>\n",
       "    <tr>\n",
       "      <th>0</th>\n",
       "      <td>Rządy PiS bez cenzury</td>\n",
       "      <td>2.0</td>\n",
       "      <td>Złoty interes</td>\n",
       "      <td>[polityka, biznes, bekazpisu]</td>\n",
       "      <td>0.021230</td>\n",
       "    </tr>\n",
       "    <tr>\n",
       "      <th>1</th>\n",
       "      <td>Elon Musk robi Hitlera na wiecu prezydenckim</td>\n",
       "      <td>5.0</td>\n",
       "      <td>Nasi dziadkowie przewracają się w grobach.</td>\n",
       "      <td>[elon, musk, wiec, hitler]</td>\n",
       "      <td>0.601637</td>\n",
       "    </tr>\n",
       "    <tr>\n",
       "      <th>2</th>\n",
       "      <td>K. Nawrocki przez pół roku mieszkał w apartame...</td>\n",
       "      <td>828.0</td>\n",
       "      <td>Karol Nawrocki jako dyrektor Muzeum II Wojny Ś...</td>\n",
       "      <td>[polityka, wybory, sejm, pis]</td>\n",
       "      <td>0.000000</td>\n",
       "    </tr>\n",
       "    <tr>\n",
       "      <th>3</th>\n",
       "      <td>Elon Musk chce kupić Intela</td>\n",
       "      <td>12.0</td>\n",
       "      <td>Nieoczekiwany zwrot u Intela. Okazuje się, że ...</td>\n",
       "      <td>[elonmusk, intel, technologia]</td>\n",
       "      <td>0.076696</td>\n",
       "    </tr>\n",
       "    <tr>\n",
       "      <th>4</th>\n",
       "      <td>Pierwsze decyzje Donalda Trumpa.</td>\n",
       "      <td>3.0</td>\n",
       "      <td>Pierwsze decyzje Donalda Trumpa.</td>\n",
       "      <td>[ekonomia, usa, trump, wydarzeniaswiatedek, sw...</td>\n",
       "      <td>0.076554</td>\n",
       "    </tr>\n",
       "  </tbody>\n",
       "</table>\n",
       "</div>"
      ],
      "text/plain": [
       "                                               title  votes  \\\n",
       "0                              Rządy PiS bez cenzury    2.0   \n",
       "1       Elon Musk robi Hitlera na wiecu prezydenckim    5.0   \n",
       "2  K. Nawrocki przez pół roku mieszkał w apartame...  828.0   \n",
       "3                        Elon Musk chce kupić Intela   12.0   \n",
       "4                   Pierwsze decyzje Donalda Trumpa.    3.0   \n",
       "\n",
       "                                         description  \\\n",
       "0                                      Złoty interes   \n",
       "1         Nasi dziadkowie przewracają się w grobach.   \n",
       "2  Karol Nawrocki jako dyrektor Muzeum II Wojny Ś...   \n",
       "3  Nieoczekiwany zwrot u Intela. Okazuje się, że ...   \n",
       "4                   Pierwsze decyzje Donalda Trumpa.   \n",
       "\n",
       "                                                tags    scores  \n",
       "0                      [polityka, biznes, bekazpisu]  0.021230  \n",
       "1                         [elon, musk, wiec, hitler]  0.601637  \n",
       "2                      [polityka, wybory, sejm, pis]  0.000000  \n",
       "3                     [elonmusk, intel, technologia]  0.076696  \n",
       "4  [ekonomia, usa, trump, wydarzeniaswiatedek, sw...  0.076554  "
      ]
     },
     "execution_count": 163,
     "metadata": {},
     "output_type": "execute_result"
    }
   ],
   "source": [
    "df_id_ready.head()"
   ]
  },
  {
   "cell_type": "code",
   "execution_count": 164,
   "id": "ab0eed97",
   "metadata": {},
   "outputs": [],
   "source": [
    "df_misinfo_ready = df_misinfo.drop(columns=[\n",
    "    'id', 'url', 'added_date', 'author', 'alerts', 'downvotes'\n",
    "    ]\n",
    ")"
   ]
  },
  {
   "cell_type": "code",
   "execution_count": 165,
   "id": "9feccce0",
   "metadata": {},
   "outputs": [
    {
     "data": {
      "text/html": [
       "<div>\n",
       "<style scoped>\n",
       "    .dataframe tbody tr th:only-of-type {\n",
       "        vertical-align: middle;\n",
       "    }\n",
       "\n",
       "    .dataframe tbody tr th {\n",
       "        vertical-align: top;\n",
       "    }\n",
       "\n",
       "    .dataframe thead th {\n",
       "        text-align: right;\n",
       "    }\n",
       "</style>\n",
       "<table border=\"1\" class=\"dataframe\">\n",
       "  <thead>\n",
       "    <tr style=\"text-align: right;\">\n",
       "      <th></th>\n",
       "      <th>title</th>\n",
       "      <th>description</th>\n",
       "      <th>tags</th>\n",
       "      <th>votes</th>\n",
       "      <th>scores</th>\n",
       "    </tr>\n",
       "  </thead>\n",
       "  <tbody>\n",
       "    <tr>\n",
       "      <th>0</th>\n",
       "      <td>We Francji spokojnie. W sylwestra spalono tylk...</td>\n",
       "      <td>W noc sylwestrową we Francji spalono \"tylko\" 9...</td>\n",
       "      <td>[europa, swiat, imigranci, ciekawostki, francja]</td>\n",
       "      <td>2305</td>\n",
       "      <td>1.000000</td>\n",
       "    </tr>\n",
       "    <tr>\n",
       "      <th>1</th>\n",
       "      <td>[Afera Prezydencka] Moderator fDy</td>\n",
       "      <td>A gdyby tak większa ilość użytkowników #wykop ...</td>\n",
       "      <td>[wykop, afera, aferaprezydecka, lechwalesacont...</td>\n",
       "      <td>428</td>\n",
       "      <td>1.000000</td>\n",
       "    </tr>\n",
       "    <tr>\n",
       "      <th>2</th>\n",
       "      <td>Szczera wypowiedź Tomasza Lisa</td>\n",
       "      <td>pan redaktor w końcu powiedział co tak naprawd...</td>\n",
       "      <td>[polityka, heheszki, lisnadzis, kod, media]</td>\n",
       "      <td>1357</td>\n",
       "      <td>0.963792</td>\n",
       "    </tr>\n",
       "    <tr>\n",
       "      <th>3</th>\n",
       "      <td>Inwazja zombie-islamu na Europę stała się fakt...</td>\n",
       "      <td>Zobaczcie jak przybysze bawią się z Niemką w c...</td>\n",
       "      <td>[europa, islam, imigranci, kolonia, uchodzcy, ...</td>\n",
       "      <td>145</td>\n",
       "      <td>0.998622</td>\n",
       "    </tr>\n",
       "    <tr>\n",
       "      <th>4</th>\n",
       "      <td>Czy tak wyglądały ataki w Koloni  w Nowy Rok?</td>\n",
       "      <td>Podejrzewam że to dopiero początek wrzut tego ...</td>\n",
       "      <td>[europa, imigranci, islam]</td>\n",
       "      <td>33</td>\n",
       "      <td>0.976296</td>\n",
       "    </tr>\n",
       "  </tbody>\n",
       "</table>\n",
       "</div>"
      ],
      "text/plain": [
       "                                               title  \\\n",
       "0  We Francji spokojnie. W sylwestra spalono tylk...   \n",
       "1                  [Afera Prezydencka] Moderator fDy   \n",
       "2                     Szczera wypowiedź Tomasza Lisa   \n",
       "3  Inwazja zombie-islamu na Europę stała się fakt...   \n",
       "4      Czy tak wyglądały ataki w Koloni  w Nowy Rok?   \n",
       "\n",
       "                                         description  \\\n",
       "0  W noc sylwestrową we Francji spalono \"tylko\" 9...   \n",
       "1  A gdyby tak większa ilość użytkowników #wykop ...   \n",
       "2  pan redaktor w końcu powiedział co tak naprawd...   \n",
       "3  Zobaczcie jak przybysze bawią się z Niemką w c...   \n",
       "4  Podejrzewam że to dopiero początek wrzut tego ...   \n",
       "\n",
       "                                                tags  votes    scores  \n",
       "0   [europa, swiat, imigranci, ciekawostki, francja]   2305  1.000000  \n",
       "1  [wykop, afera, aferaprezydecka, lechwalesacont...    428  1.000000  \n",
       "2        [polityka, heheszki, lisnadzis, kod, media]   1357  0.963792  \n",
       "3  [europa, islam, imigranci, kolonia, uchodzcy, ...    145  0.998622  \n",
       "4                         [europa, imigranci, islam]     33  0.976296  "
      ]
     },
     "execution_count": 165,
     "metadata": {},
     "output_type": "execute_result"
    }
   ],
   "source": [
    "df_misinfo_ready.head()"
   ]
  },
  {
   "cell_type": "code",
   "execution_count": 166,
   "id": "ac63ec83",
   "metadata": {},
   "outputs": [],
   "source": [
    "df = pd.concat([df_misinfo_ready, df_id_ready], ignore_index=True)"
   ]
  },
  {
   "cell_type": "code",
   "execution_count": 167,
   "id": "1e21d8be",
   "metadata": {},
   "outputs": [],
   "source": [
    "df['scores'] = df['scores'].apply(lambda x: min(1, max(0, x)))"
   ]
  },
  {
   "cell_type": "code",
   "execution_count": 168,
   "id": "ba8cf988",
   "metadata": {},
   "outputs": [
    {
     "data": {
      "text/plain": [
       "<Axes: ylabel='Frequency'>"
      ]
     },
     "execution_count": 168,
     "metadata": {},
     "output_type": "execute_result"
    },
    {
     "data": {
      "image/png": "[encoded data removed]",
      "text/plain": [
       "<Figure size 640x480 with 1 Axes>"
      ]
     },
     "metadata": {},
     "output_type": "display_data"
    }
   ],
   "source": [
    "df['scores'].sort_values().plot(kind='hist', bins=20)"
   ]
  },
  {
   "cell_type": "markdown",
   "id": "157497d4",
   "metadata": {},
   "source": [
    "# Preparing the data"
   ]
  },
  {
   "cell_type": "code",
   "execution_count": 169,
   "id": "52db52b1",
   "metadata": {},
   "outputs": [],
   "source": [
    "df[\"text\"] = (\n",
    "    df[\"title\"].fillna('') + \" \" +\n",
    "    df[\"description\"].fillna('') + \" \" +\n",
    "    df[\"tags\"].apply(lambda x: \" \".join(x) if isinstance(x, list) else x)\n",
    ")"
   ]
  },
  {
   "cell_type": "code",
   "execution_count": 170,
   "id": "2f3b277b",
   "metadata": {},
   "outputs": [],
   "source": [
    "def clean_text(t):\n",
    "    def _normalize_polish_characters(text):\n",
    "        mapping = {\n",
    "            \"ą\": \"a\", \"ć\": \"c\", \"ę\": \"e\", \"ł\": \"l\",\n",
    "            \"ń\": \"n\", \"ó\": \"o\", \"ś\": \"s\", \"ź\": \"z\", \"ż\": \"z\",\n",
    "            \"Ą\": \"A\", \"Ć\": \"C\", \"Ę\": \"E\", \"Ł\": \"L\",\n",
    "            \"Ń\": \"N\", \"Ó\": \"O\", \"Ś\": \"S\", \"Ź\": \"Z\", \"Ż\": \"Z\"\n",
    "        }\n",
    "        for k, v in mapping.items():\n",
    "            text = text.replace(k, v)\n",
    "        return text\n",
    "    t = t.lower()\n",
    "    t = _normalize_polish_characters(t)\n",
    "    t = re.sub(r\"http\\S+\", \"\", t)\n",
    "    t = re.sub(r\"[^a-z0-9\\s]\", \"\", t)\n",
    "    return t.strip()\n",
    "\n",
    "df[\"clean_text\"] = df[\"text\"].apply(clean_text)"
   ]
  },
  {
   "cell_type": "code",
   "execution_count": 171,
   "id": "a399cea8",
   "metadata": {},
   "outputs": [
    {
     "data": {
      "text/plain": [
       "0    we francji spokojnie w sylwestra spalono tylko...\n",
       "1    afera prezydencka moderator fdy a gdyby tak wi...\n",
       "2    szczera wypowiedz tomasza lisa pan redaktor w ...\n",
       "3    inwazja zombieislamu na europe stala sie fakte...\n",
       "4    czy tak wygladaly ataki w koloni  w nowy rok p...\n",
       "Name: clean_text, dtype: object"
      ]
     },
     "execution_count": 171,
     "metadata": {},
     "output_type": "execute_result"
    }
   ],
   "source": [
    "df['clean_text'].head()"
   ]
  },
  {
   "cell_type": "markdown",
   "id": "72f411e8",
   "metadata": {},
   "source": [
    "## Initial model"
   ]
  },
  {
   "cell_type": "code",
   "execution_count": 172,
   "id": "68881dca",
   "metadata": {},
   "outputs": [
    {
     "name": "stdout",
     "output_type": "stream",
     "text": [
      "MAE: 0.22739153993784067\n",
      "R²: 0.4918459980097155\n"
     ]
    }
   ],
   "source": [
    "from sklearn.model_selection import train_test_split\n",
    "from sklearn.feature_extraction.text import TfidfVectorizer\n",
    "from sklearn.linear_model import Ridge\n",
    "from sklearn.metrics import mean_absolute_error, r2_score\n",
    "\n",
    "X_train, X_test, y_train, y_test = train_test_split(df[\"clean_text\"], df[\"scores\"], test_size=0.2, random_state=42)\n",
    "\n",
    "vectorizer = TfidfVectorizer(\n",
    "    max_features=10000,\n",
    "    ngram_range=(1,2),\n",
    "    min_df=2\n",
    ")\n",
    "\n",
    "X_train_tfidf = vectorizer.fit_transform(X_train)\n",
    "X_test_tfidf = vectorizer.transform(X_test)\n",
    "\n",
    "model = Ridge(alpha=1.0)\n",
    "model.fit(X_train_tfidf, y_train)\n",
    "\n",
    "y_pred = model.predict(X_test_tfidf)\n",
    "\n",
    "print(\"MAE:\", mean_absolute_error(y_test, y_pred))\n",
    "print(\"R²:\", r2_score(y_test, y_pred))"
   ]
  },
  {
   "cell_type": "code",
   "execution_count": 173,
   "id": "84ba736f",
   "metadata": {},
   "outputs": [
    {
     "name": "stdout",
     "output_type": "stream",
     "text": [
      "0.5960931962081002 0.9048521083463157 uk obniza vat z 20 do 5 na wszystkie produkty w sklepach  taka pomoc dla obywateli na 6mcy europa uk vat ekonomia polityka\n",
      "0.06916718189200166 0.000575485478019013 rok jedzenia chicken sandwich w popeyes za darmo kolejnym otwarciom nowych lokali popeyes w polsce towarzyszy promocja w ktorej na klientow czeka az rok darmowego jedze popeyes promocja darmo kurczak\n",
      "0.4549876278551961 0.8998512955532599 to tylko jakis patent   patent z 2015 roku teoriespiskowe patent covid19\n",
      "0.08062178305573178 0.09856412697571337 microsoft account od lutego duza zmiana w logowaniu sie do konta od lutego jesli zalogujesz sie uzytkownicy beda automatycznie zalogowani caly czas istnieje nowa globalna opcja wylogowania wyloguj sie wszedzie moze to potrwac do 24 godzin zanim microsoft wyloguje uzytkownika ze wszystkich urzadzen chyba ich troche ponioslo microsoft windows cyberbezpieczenstwo security cybersecurity komputery\n",
      "0.31795131849326835 0.055607284271827234 rzad w uk domaga sie dostepu do szyfrowanych danych uzytkownikow apple eng brytyjski the home office wystawil zawiadomienie do apple o to aby firma stworzyla backdoor dajacy dostep do szyfrowanych danych uzytkownikow na mocy ich investigatory powers act dopiero co ue chciala likwidowac szyfrowanie ssl 1984 puka do drzwi technologia bezpieczenstwo polityka swiat gruparatowaniapoziomu\n",
      "0.29313634307442915 0.0 przerazajacy ludzie z hells angels ktorzy rzadza za kratami dzis opowiemy o niesamowitej historii w ktorej czlonkowie hells angels przejeli kontrole nad wiezieniem zmieniajac je w swoje wlasne krolestwo jak to mozliwe ze w tak zamknietym srodowisku byli w stanie narzucic swoje prawa i rzadzic za kratami wiezienie prawo wyrok gang klub kryminalne\n",
      "0.09541242913880348 0.003175468798345774 pfas wieczne chemikalia w naszym srodowisku prof stanislaw gawronski opowiada o wiecznych chemikaliach to jedna z grup trwalych zwiazkow zanieczyszczajacych srodowisko inna w zachowaniu anizeli pozostale w srodowisku zwiazki te nie tkwia zatrzymane wrecz odwrotnie bardzo latwo sie przemieszczaja bo prawie nie ulegaja rozkladowi chemia nauka swiatnauki biologia zdrowie dieta\n",
      "0.07388066868345936 0.0 tesla byd saic geely pozywaja unie europejska chodzi o cla na elektryki z chin wspomniane w tytule firmy zdecydowaly sie zaskarzyc decyzje unii europejskiej dotyczaca nalozenia cel na samochody elektryczne produkowane na terenie panstwa srodka dodatkowe taryfy przywozowe obowiazuja od konca pazdziernika 2024 roku dotycza wszystkich aut wyjez uniaeuropejska clazaporowenaelektryki teslaswietegoelonamuska elektromobilnosczdodacjami superhiperautkaelektrycznetakiezehohohohohohohhoo chinskieautaevsuperdoplaty\n",
      "0.1593289463073655 0.6764887333457296 toaleta za 650 tys zl to nie wszystko 650 tysiecy zlotych tyle warszawa zaplacila za miejska toalete w parku skaryszewskim warszawa\n",
      "0.1005233983303343 0.0 asystent medyczny zawod ktory staje sie fundamentem wspolczesnej ochrony zdrowiawyzsza szkola bezpieczenstwa wydzial w gdansku asystent medyczny studia gdanskw dynamicznie rozwijajacym sie sektorze ochrony zdrowia rosnie zapotrzebowanie na profesjonalistow ktorzy wspieraja personel medyczny i dbaja o  praca medycyna studia2025 asystentmedyczny\n"
     ]
    }
   ],
   "source": [
    "for pr, ts, x_ts, _ in zip(y_pred, y_test, X_test, range(10)):\n",
    "    print(pr, ts, x_ts)"
   ]
  },
  {
   "cell_type": "markdown",
   "id": "ab1f7bed",
   "metadata": {},
   "source": [
    "## Change problem to classification"
   ]
  },
  {
   "cell_type": "code",
   "execution_count": 174,
   "id": "662245d0",
   "metadata": {},
   "outputs": [
    {
     "data": {
      "text/plain": [
       "0        1.000000\n",
       "1        1.000000\n",
       "2        0.963792\n",
       "3        0.998622\n",
       "4        0.976296\n",
       "           ...   \n",
       "12062    0.034823\n",
       "12063    0.000000\n",
       "12064    0.055135\n",
       "12065    0.000000\n",
       "12066    0.030178\n",
       "Name: scores, Length: 12067, dtype: float64"
      ]
     },
     "execution_count": 174,
     "metadata": {},
     "output_type": "execute_result"
    }
   ],
   "source": [
    "df[\"scores\"]"
   ]
  },
  {
   "cell_type": "code",
   "execution_count": 203,
   "id": "a61f1125",
   "metadata": {},
   "outputs": [
    {
     "data": {
      "text/plain": [
       "label\n",
       "0    0.714679\n",
       "2    0.230025\n",
       "1    0.055296\n",
       "Name: proportion, dtype: float64"
      ]
     },
     "execution_count": 203,
     "metadata": {},
     "output_type": "execute_result"
    }
   ],
   "source": [
    "df[\"label\"] = df[\"scores\"].apply(lambda x: 0 if x < 0.35 else (2 if x > 0.85 else 1))\n",
    "\n",
    "df[\"label\"].value_counts(normalize=True)"
   ]
  },
  {
   "cell_type": "code",
   "execution_count": 204,
   "id": "ed1410d7",
   "metadata": {},
   "outputs": [],
   "source": [
    "df = df[~df['clean_text'].duplicated()].reset_index(drop=True)"
   ]
  },
  {
   "cell_type": "code",
   "execution_count": 205,
   "id": "3e78a442",
   "metadata": {},
   "outputs": [
    {
     "name": "stdout",
     "output_type": "stream",
     "text": [
      "              precision    recall  f1-score   support\n",
      "\n",
      "           0      0.892     0.847     0.869      1714\n",
      "           1      0.196     0.308     0.240       133\n",
      "           2      0.790     0.808     0.799       551\n",
      "\n",
      "    accuracy                          0.808      2398\n",
      "   macro avg      0.626     0.654     0.636      2398\n",
      "weighted avg      0.830     0.808     0.818      2398\n",
      "\n"
     ]
    },
    {
     "data": {
      "image/png": "[encoded data removed]",
      "text/plain": [
       "<Figure size 640x480 with 2 Axes>"
      ]
     },
     "metadata": {},
     "output_type": "display_data"
    }
   ],
   "source": [
    "from sklearn.linear_model import LogisticRegression\n",
    "from sklearn.model_selection import train_test_split\n",
    "from sklearn.feature_extraction.text import TfidfVectorizer\n",
    "from sklearn.pipeline import Pipeline\n",
    "from sklearn.metrics import classification_report, confusion_matrix\n",
    "import seaborn as sns\n",
    "import matplotlib.pyplot as plt\n",
    "\n",
    "X_train, X_test, y_train, y_test = train_test_split(\n",
    "    df[\"clean_text\"], df[\"label\"], test_size=0.2, random_state=42, stratify=df[\"label\"]\n",
    ")\n",
    "\n",
    "\n",
    "model = Pipeline([\n",
    "    (\"tfidf\", TfidfVectorizer(max_features=10000, ngram_range=(1,2), min_df=2)),\n",
    "    (\"clf\", LogisticRegression(max_iter=1000, class_weight='balanced'))\n",
    "])\n",
    "\n",
    "model.fit(X_train, y_train)\n",
    "\n",
    "y_pred = model.predict(X_test)\n",
    "\n",
    "print(classification_report(y_test, y_pred, digits=3))\n",
    "\n",
    "cm = confusion_matrix(y_test, y_pred)\n",
    "sns.heatmap(cm, annot=True, fmt='d', cmap='Blues')\n",
    "plt.xlabel(\"Prediction\")\n",
    "plt.ylabel(\"Real\")\n",
    "plt.title(\"Confusion Matrix\")\n",
    "plt.show()"
   ]
  },
  {
   "cell_type": "markdown",
   "id": "360fcacd",
   "metadata": {},
   "source": [
    "### Class balancing"
   ]
  },
  {
   "cell_type": "code",
   "execution_count": 177,
   "id": "1468a0b5",
   "metadata": {},
   "outputs": [
    {
     "name": "stdout",
     "output_type": "stream",
     "text": [
      "              precision    recall  f1-score   support\n",
      "\n",
      "           0      0.962     0.939     0.950      1714\n",
      "           1      0.528     0.670     0.590       100\n",
      "           2      0.561     0.640     0.598       100\n",
      "\n",
      "    accuracy                          0.909      1914\n",
      "   macro avg      0.684     0.750     0.713      1914\n",
      "weighted avg      0.918     0.909     0.913      1914\n",
      "\n"
     ]
    },
    {
     "data": {
      "image/png": "[encoded data removed]",
      "text/plain": [
       "<Figure size 640x480 with 2 Axes>"
      ]
     },
     "metadata": {},
     "output_type": "display_data"
    }
   ],
   "source": [
    "from sklearn.utils import resample\n",
    "\n",
    "majority = df[df.label == 0]\n",
    "minority1 = df[df.label == 1]\n",
    "minority2 = df[df.label == 2]\n",
    "\n",
    "minority1_upsampled = resample(minority1, replace=True, n_samples=500, random_state=42)\n",
    "minority2_upsampled = resample(minority2, replace=True, n_samples=500, random_state=42)\n",
    "\n",
    "df_balanced = pd.concat([majority, minority1_upsampled, minority2_upsampled])\n",
    "\n",
    "# Retraining\n",
    "X_train, X_test, y_train, y_test = train_test_split(\n",
    "    df_balanced[\"clean_text\"], df_balanced[\"label\"], test_size=0.2, random_state=42, stratify=df_balanced[\"label\"]\n",
    ")\n",
    "\n",
    "\n",
    "model = Pipeline([\n",
    "    (\"tfidf\", TfidfVectorizer(max_features=10000, ngram_range=(1,3), min_df=2, sublinear_tf=True)), # bigrams and trigrams\n",
    "    (\"clf\", LogisticRegression(max_iter=1000, class_weight='balanced'))\n",
    "])\n",
    "\n",
    "model.fit(X_train, y_train)\n",
    "\n",
    "y_pred = model.predict(X_test)\n",
    "\n",
    "print(classification_report(y_test, y_pred, digits=3))\n",
    "\n",
    "cm = confusion_matrix(y_test, y_pred)\n",
    "sns.heatmap(cm, annot=True, fmt='d', cmap='Blues')\n",
    "plt.xlabel(\"Prediction\")\n",
    "plt.ylabel(\"Real\")\n",
    "plt.title(\"Confusion Matrix\")\n",
    "plt.show()"
   ]
  },
  {
   "cell_type": "markdown",
   "id": "68ece4fa",
   "metadata": {},
   "source": [
    "### Try only 2 labels classification"
   ]
  },
  {
   "cell_type": "code",
   "execution_count": 207,
   "id": "c6bd0dca",
   "metadata": {},
   "outputs": [
    {
     "data": {
      "text/plain": [
       "label\n",
       "0    0.714929\n",
       "1    0.285071\n",
       "Name: proportion, dtype: float64"
      ]
     },
     "execution_count": 207,
     "metadata": {},
     "output_type": "execute_result"
    }
   ],
   "source": [
    "df[\"label\"] = df[\"scores\"].apply(lambda x: 0 if x < 0.5 else 1)\n",
    "\n",
    "df[\"label\"].value_counts(normalize=True)"
   ]
  },
  {
   "cell_type": "code",
   "execution_count": 208,
   "id": "dd5803a0",
   "metadata": {},
   "outputs": [
    {
     "name": "stdout",
     "output_type": "stream",
     "text": [
      "              precision    recall  f1-score   support\n",
      "\n",
      "           0      0.899     0.900     0.900      1714\n",
      "           1      0.749     0.747     0.748       684\n",
      "\n",
      "    accuracy                          0.857      2398\n",
      "   macro avg      0.824     0.824     0.824      2398\n",
      "weighted avg      0.856     0.857     0.856      2398\n",
      "\n"
     ]
    },
    {
     "data": {
      "image/png": "[encoded data removed]",
      "text/plain": [
       "<Figure size 640x480 with 2 Axes>"
      ]
     },
     "metadata": {},
     "output_type": "display_data"
    }
   ],
   "source": [
    "X_train, X_test, y_train, y_test = train_test_split(\n",
    "    df[\"clean_text\"], df[\"label\"], test_size=0.2, random_state=42, stratify=df[\"label\"]\n",
    ")\n",
    "\n",
    "\n",
    "model = Pipeline([\n",
    "    (\"tfidf\", TfidfVectorizer(max_features=10000, ngram_range=(1,2), min_df=2)),\n",
    "    (\"clf\", LogisticRegression(max_iter=1000, class_weight='balanced'))\n",
    "])\n",
    "\n",
    "model.fit(X_train, y_train)\n",
    "\n",
    "y_pred = model.predict(X_test)\n",
    "\n",
    "print(classification_report(y_test, y_pred, digits=3))\n",
    "\n",
    "cm = confusion_matrix(y_test, y_pred)\n",
    "sns.heatmap(cm, annot=True, fmt='d', cmap='Blues')\n",
    "plt.xlabel(\"Prediction\")\n",
    "plt.ylabel(\"Real\")\n",
    "plt.title(\"Confusion Matrix\")\n",
    "plt.show()"
   ]
  },
  {
   "cell_type": "markdown",
   "id": "8854ae37",
   "metadata": {},
   "source": [
    "### With balancing"
   ]
  },
  {
   "cell_type": "code",
   "execution_count": 209,
   "id": "b9a6de84",
   "metadata": {},
   "outputs": [
    {
     "name": "stdout",
     "output_type": "stream",
     "text": [
      "              precision    recall  f1-score   support\n",
      "\n",
      "           0      0.873     0.907     0.890      1715\n",
      "           1      0.903     0.868     0.885      1714\n",
      "\n",
      "    accuracy                          0.888      3429\n",
      "   macro avg      0.888     0.888     0.888      3429\n",
      "weighted avg      0.888     0.888     0.888      3429\n",
      "\n"
     ]
    },
    {
     "data": {
      "image/png": "[encoded data removed]",
      "text/plain": [
       "<Figure size 640x480 with 2 Axes>"
      ]
     },
     "metadata": {},
     "output_type": "display_data"
    }
   ],
   "source": [
    "from sklearn.utils import resample\n",
    "\n",
    "majority = df[df.label == 0]\n",
    "minority = df[df.label == 1]\n",
    "\n",
    "minority_upsampled = resample(minority, replace=True, n_samples=len(majority), random_state=42)\n",
    "\n",
    "df_balanced = pd.concat([majority, minority_upsampled])\n",
    "\n",
    "# Retraining\n",
    "X_train, X_test, y_train, y_test = train_test_split(\n",
    "    df_balanced[\"clean_text\"], df_balanced[\"label\"], test_size=0.2, random_state=42, stratify=df_balanced[\"label\"]\n",
    ")\n",
    "\n",
    "\n",
    "model = Pipeline([\n",
    "    (\"tfidf\", TfidfVectorizer(max_features=10000, ngram_range=(1,3), min_df=2, sublinear_tf=True)), # bigrams and trigrams\n",
    "    (\"clf\", LogisticRegression(max_iter=1000, class_weight='balanced'))\n",
    "])\n",
    "\n",
    "model.fit(X_train, y_train)\n",
    "\n",
    "y_pred = model.predict(X_test)\n",
    "\n",
    "print(classification_report(y_test, y_pred, digits=3))\n",
    "\n",
    "cm = confusion_matrix(y_test, y_pred)\n",
    "sns.heatmap(cm, annot=True, fmt='d', cmap='Blues')\n",
    "plt.xlabel(\"Prediction\")\n",
    "plt.ylabel(\"Real\")\n",
    "plt.title(\"Confusion Matrix\")\n",
    "plt.show()"
   ]
  },
  {
   "cell_type": "code",
   "execution_count": 222,
   "id": "5c06a30b",
   "metadata": {},
   "outputs": [
    {
     "name": "stdout",
     "output_type": "stream",
     "text": [
      "-> Top 15 słów wskazujących na klasę 1 (manipulacja):\n",
      "swiat (8.444)\n",
      "koronawirus (7.766)\n",
      "wykop (6.553)\n",
      "covid19 (5.648)\n",
      "4konserwy (5.147)\n",
      "europa (5.144)\n",
      "moderacja (4.929)\n",
      "szczepienia (4.044)\n",
      "bekazlewactwa (3.641)\n",
      "moderacjacontent (3.551)\n",
      "polska (3.404)\n",
      "lgbt (3.364)\n",
      "afera (3.288)\n",
      "zydzi (3.080)\n",
      "neuropa (2.994)\n",
      "\n",
      "-> Top 15 słów wskazujących na klasę 0 (prawdziwe informacje):\n",
      "gospodarka (-3.323)\n",
      "nieruchomosci (-3.254)\n",
      "wydarzenia (-3.004)\n",
      "gry (-2.870)\n",
      "2024 (-2.838)\n",
      "polityka (-2.605)\n",
      "historia (-2.600)\n",
      "trump (-2.524)\n",
      "wypadek (-2.306)\n",
      "na (-2.241)\n",
      "inwestycje (-2.240)\n",
      "kryminalne (-2.238)\n",
      "gruparatowaniapoziomu (-2.177)\n",
      "demografia (-2.165)\n",
      "ciekawostki (-2.145)\n"
     ]
    }
   ],
   "source": [
    "vectorizer = model.named_steps['tfidf']\n",
    "clf = model.named_steps['clf']\n",
    "\n",
    "feature_names = np.array(vectorizer.get_feature_names_out())\n",
    "coefs = clf.coef_[0]\n",
    "\n",
    "topn_pos = np.argsort(coefs)[-15:]   # top cechy dla klasy 1\n",
    "topn_neg = np.argsort(coefs)[:15]    # top cechy dla klasy 0\n",
    "\n",
    "print(\"-> Top 15 słów wskazujących na klasę 1 (manipulacja):\")\n",
    "for idx in topn_pos[::-1]:\n",
    "    print(f\"{feature_names[idx]} ({coefs[idx]:.3f})\")\n",
    "\n",
    "print(\"\\n-> Top 15 słów wskazujących na klasę 0 (prawdziwe informacje):\")\n",
    "for idx in topn_neg:\n",
    "    print(f\"{feature_names[idx]} ({coefs[idx]:.3f})\")"
   ]
  }
 ],
 "metadata": {
  "kernelspec": {
   "display_name": "computational-intelligence-2025 (3.12.10)",
   "language": "python",
   "name": "python3"
  },
  "language_info": {
   "codemirror_mode": {
    "name": "ipython",
    "version": 3
   },
   "file_extension": ".py",
   "mimetype": "text/x-python",
   "name": "python",
   "nbconvert_exporter": "python",
   "pygments_lexer": "ipython3",
   "version": "3.12.10"
  }
 },
 "nbformat": 4,
 "nbformat_minor": 5
}
